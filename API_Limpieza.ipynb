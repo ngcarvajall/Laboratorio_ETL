{
 "cells": [
  {
   "cell_type": "code",
   "execution_count": 1,
   "metadata": {},
   "outputs": [],
   "source": [
    "import requests\n",
    "#import pandas as pd\n",
    "import dotenv as dotenv\n",
    "import os\n",
    "\n",
    "\n",
    "# Para generar una barra de proceso en los bucles for\n",
    "# -----------------------------------------------------------------------\n",
    "from tqdm import tqdm\n",
    "\n",
    "# Para trabajar con ficheros\n",
    "# -----------------------------------------------------------------------\n",
    "import os\n",
    "import pandas as pd\n",
    "import re"
   ]
  },
  {
   "cell_type": "markdown",
   "metadata": {},
   "source": [
    "* Iniciamos con la Demanda eléctrica"
   ]
  },
  {
   "cell_type": "code",
   "execution_count": 18,
   "metadata": {},
   "outputs": [],
   "source": [
    "# Vamos a definir las rutas de las carpetas de donde sacamos los archivos y donde queremos almacenar los resutlados después de toda la transformación\n",
    "ruta_origen = 'C:\\\\Users\\\\DELL\\\\Git\\\\Laboratorio_ETL\\\\datos_demanda_electrica'\n",
    "df = pd.DataFrame() #crear df para concatenar\n",
    "for archivo in (os.listdir(ruta_origen)):\n",
    "    # ruta_archivo = os.path.join(ruta_origen, archivo)\n",
    "    df_variante = pd.read_csv(f'C:\\\\Users\\\\DELL\\\\Git\\\\Laboratorio_ETL\\\\datos_demanda_electrica\\\\{archivo}', index_col=0)\n",
    "    #creo uno dentro \n",
    "    #leer el csv{archivo}\n",
    "    nombre_limpio = archivo.split('.csv') #split.csv\n",
    "    nombre_junto_ano = nombre_limpio[0].split('_')\n",
    "    nombre = nombre_junto_ano[0]\n",
    "    fecha = nombre_junto_ano[1]\n",
    "    df_variante['CCAA'] = nombre\n",
    "    df_variante['Año'] = fecha\n",
    "    df = pd.concat([df, df_variante])\n",
    "    #saconombre\n",
    "    #sacoaño\n",
    "    #creo columnas nuevas, \n",
    "    #creo data frame"
   ]
  },
  {
   "cell_type": "code",
   "execution_count": 19,
   "metadata": {},
   "outputs": [
    {
     "name": "stdout",
     "output_type": "stream",
     "text": [
      "<class 'pandas.core.frame.DataFrame'>\n",
      "Index: 684 entries, 0 to 11\n",
      "Data columns (total 6 columns):\n",
      " #   Column      Non-Null Count  Dtype  \n",
      "---  ------      --------------  -----  \n",
      " 0   value       684 non-null    float64\n",
      " 1   percentage  684 non-null    int64  \n",
      " 2   datetime    684 non-null    object \n",
      " 3   COD-CCAA    684 non-null    int64  \n",
      " 4   CCAA        684 non-null    object \n",
      " 5   Año         684 non-null    object \n",
      "dtypes: float64(1), int64(2), object(3)\n",
      "memory usage: 37.4+ KB\n"
     ]
    }
   ],
   "source": [
    "df.info() #conozco mejor mis datos, ubico que no tengo nulos"
   ]
  },
  {
   "cell_type": "code",
   "execution_count": 20,
   "metadata": {},
   "outputs": [
    {
     "data": {
      "text/html": [
       "<div>\n",
       "<style scoped>\n",
       "    .dataframe tbody tr th:only-of-type {\n",
       "        vertical-align: middle;\n",
       "    }\n",
       "\n",
       "    .dataframe tbody tr th {\n",
       "        vertical-align: top;\n",
       "    }\n",
       "\n",
       "    .dataframe thead th {\n",
       "        text-align: right;\n",
       "    }\n",
       "</style>\n",
       "<table border=\"1\" class=\"dataframe\">\n",
       "  <thead>\n",
       "    <tr style=\"text-align: right;\">\n",
       "      <th></th>\n",
       "      <th>value</th>\n",
       "      <th>percentage</th>\n",
       "      <th>datetime</th>\n",
       "      <th>COD-CCAA</th>\n",
       "      <th>CCAA</th>\n",
       "      <th>Año</th>\n",
       "    </tr>\n",
       "  </thead>\n",
       "  <tbody>\n",
       "    <tr>\n",
       "      <th>0</th>\n",
       "      <td>3668893.328</td>\n",
       "      <td>1</td>\n",
       "      <td>2019-01-01T00:00:00.000+01:00</td>\n",
       "      <td>4</td>\n",
       "      <td>Andalucía</td>\n",
       "      <td>2019</td>\n",
       "    </tr>\n",
       "    <tr>\n",
       "      <th>1</th>\n",
       "      <td>3152278.091</td>\n",
       "      <td>1</td>\n",
       "      <td>2019-02-01T00:00:00.000+01:00</td>\n",
       "      <td>4</td>\n",
       "      <td>Andalucía</td>\n",
       "      <td>2019</td>\n",
       "    </tr>\n",
       "    <tr>\n",
       "      <th>2</th>\n",
       "      <td>3216356.360</td>\n",
       "      <td>1</td>\n",
       "      <td>2019-03-01T00:00:00.000+01:00</td>\n",
       "      <td>4</td>\n",
       "      <td>Andalucía</td>\n",
       "      <td>2019</td>\n",
       "    </tr>\n",
       "    <tr>\n",
       "      <th>3</th>\n",
       "      <td>3029639.973</td>\n",
       "      <td>1</td>\n",
       "      <td>2019-04-01T00:00:00.000+02:00</td>\n",
       "      <td>4</td>\n",
       "      <td>Andalucía</td>\n",
       "      <td>2019</td>\n",
       "    </tr>\n",
       "    <tr>\n",
       "      <th>4</th>\n",
       "      <td>3154123.467</td>\n",
       "      <td>1</td>\n",
       "      <td>2019-05-01T00:00:00.000+02:00</td>\n",
       "      <td>4</td>\n",
       "      <td>Andalucía</td>\n",
       "      <td>2019</td>\n",
       "    </tr>\n",
       "  </tbody>\n",
       "</table>\n",
       "</div>"
      ],
      "text/plain": [
       "         value  percentage                       datetime  COD-CCAA  \\\n",
       "0  3668893.328           1  2019-01-01T00:00:00.000+01:00         4   \n",
       "1  3152278.091           1  2019-02-01T00:00:00.000+01:00         4   \n",
       "2  3216356.360           1  2019-03-01T00:00:00.000+01:00         4   \n",
       "3  3029639.973           1  2019-04-01T00:00:00.000+02:00         4   \n",
       "4  3154123.467           1  2019-05-01T00:00:00.000+02:00         4   \n",
       "\n",
       "        CCAA   Año  \n",
       "0  Andalucía  2019  \n",
       "1  Andalucía  2019  \n",
       "2  Andalucía  2019  \n",
       "3  Andalucía  2019  \n",
       "4  Andalucía  2019  "
      ]
     },
     "execution_count": 20,
     "metadata": {},
     "output_type": "execute_result"
    }
   ],
   "source": [
    "df.head()"
   ]
  },
  {
   "cell_type": "code",
   "execution_count": 21,
   "metadata": {},
   "outputs": [
    {
     "name": "stderr",
     "output_type": "stream",
     "text": [
      "C:\\Users\\DELL\\AppData\\Local\\Temp\\ipykernel_27616\\404347714.py:2: FutureWarning: In a future version of pandas, parsing datetimes with mixed time zones will raise an error unless `utc=True`. Please specify `utc=True` to opt in to the new behaviour and silence this warning. To create a `Series` with mixed offsets and `object` dtype, please use `apply` and `datetime.datetime.strptime`\n",
      "  df['datetime'] = pd.to_datetime(df['datetime'], utc= False)\n"
     ]
    }
   ],
   "source": [
    "# Convierte la columna a formato datetime\n",
    "df['datetime'] = pd.to_datetime(df['datetime'], utc= False)\n",
    "# no tuvo efecto pero sí pude aplicarle acciones de datetime"
   ]
  },
  {
   "cell_type": "code",
   "execution_count": 22,
   "metadata": {},
   "outputs": [],
   "source": [
    "df['datetime'] = df['datetime'].apply(lambda x: pd.to_datetime(x).strftime('%Y-%m')) # doy el formato que quiero\n",
    "\n",
    "df['Mes'] = df['datetime'].apply(lambda x: pd.to_datetime(x).month) #saco el mes para una nueva columna"
   ]
  },
  {
   "cell_type": "code",
   "execution_count": 23,
   "metadata": {},
   "outputs": [
    {
     "data": {
      "text/html": [
       "<div>\n",
       "<style scoped>\n",
       "    .dataframe tbody tr th:only-of-type {\n",
       "        vertical-align: middle;\n",
       "    }\n",
       "\n",
       "    .dataframe tbody tr th {\n",
       "        vertical-align: top;\n",
       "    }\n",
       "\n",
       "    .dataframe thead th {\n",
       "        text-align: right;\n",
       "    }\n",
       "</style>\n",
       "<table border=\"1\" class=\"dataframe\">\n",
       "  <thead>\n",
       "    <tr style=\"text-align: right;\">\n",
       "      <th></th>\n",
       "      <th>value</th>\n",
       "      <th>percentage</th>\n",
       "      <th>datetime</th>\n",
       "      <th>COD-CCAA</th>\n",
       "      <th>CCAA</th>\n",
       "      <th>Año</th>\n",
       "      <th>Mes</th>\n",
       "    </tr>\n",
       "  </thead>\n",
       "  <tbody>\n",
       "    <tr>\n",
       "      <th>0</th>\n",
       "      <td>3668893.328</td>\n",
       "      <td>1</td>\n",
       "      <td>2019-01</td>\n",
       "      <td>4</td>\n",
       "      <td>Andalucía</td>\n",
       "      <td>2019</td>\n",
       "      <td>1</td>\n",
       "    </tr>\n",
       "    <tr>\n",
       "      <th>1</th>\n",
       "      <td>3152278.091</td>\n",
       "      <td>1</td>\n",
       "      <td>2019-02</td>\n",
       "      <td>4</td>\n",
       "      <td>Andalucía</td>\n",
       "      <td>2019</td>\n",
       "      <td>2</td>\n",
       "    </tr>\n",
       "    <tr>\n",
       "      <th>2</th>\n",
       "      <td>3216356.360</td>\n",
       "      <td>1</td>\n",
       "      <td>2019-03</td>\n",
       "      <td>4</td>\n",
       "      <td>Andalucía</td>\n",
       "      <td>2019</td>\n",
       "      <td>3</td>\n",
       "    </tr>\n",
       "    <tr>\n",
       "      <th>3</th>\n",
       "      <td>3029639.973</td>\n",
       "      <td>1</td>\n",
       "      <td>2019-04</td>\n",
       "      <td>4</td>\n",
       "      <td>Andalucía</td>\n",
       "      <td>2019</td>\n",
       "      <td>4</td>\n",
       "    </tr>\n",
       "    <tr>\n",
       "      <th>4</th>\n",
       "      <td>3154123.467</td>\n",
       "      <td>1</td>\n",
       "      <td>2019-05</td>\n",
       "      <td>4</td>\n",
       "      <td>Andalucía</td>\n",
       "      <td>2019</td>\n",
       "      <td>5</td>\n",
       "    </tr>\n",
       "  </tbody>\n",
       "</table>\n",
       "</div>"
      ],
      "text/plain": [
       "         value  percentage datetime  COD-CCAA       CCAA   Año  Mes\n",
       "0  3668893.328           1  2019-01         4  Andalucía  2019    1\n",
       "1  3152278.091           1  2019-02         4  Andalucía  2019    2\n",
       "2  3216356.360           1  2019-03         4  Andalucía  2019    3\n",
       "3  3029639.973           1  2019-04         4  Andalucía  2019    4\n",
       "4  3154123.467           1  2019-05         4  Andalucía  2019    5"
      ]
     },
     "execution_count": 23,
     "metadata": {},
     "output_type": "execute_result"
    }
   ],
   "source": [
    "df.head()"
   ]
  },
  {
   "cell_type": "code",
   "execution_count": 24,
   "metadata": {},
   "outputs": [],
   "source": [
    "df = df.drop(columns='datetime')"
   ]
  },
  {
   "cell_type": "code",
   "execution_count": 34,
   "metadata": {},
   "outputs": [
    {
     "data": {
      "text/html": [
       "<div>\n",
       "<style scoped>\n",
       "    .dataframe tbody tr th:only-of-type {\n",
       "        vertical-align: middle;\n",
       "    }\n",
       "\n",
       "    .dataframe tbody tr th {\n",
       "        vertical-align: top;\n",
       "    }\n",
       "\n",
       "    .dataframe thead th {\n",
       "        text-align: right;\n",
       "    }\n",
       "</style>\n",
       "<table border=\"1\" class=\"dataframe\">\n",
       "  <thead>\n",
       "    <tr style=\"text-align: right;\">\n",
       "      <th></th>\n",
       "      <th>value</th>\n",
       "      <th>percentage</th>\n",
       "      <th>COD-CCAA</th>\n",
       "      <th>CCAA</th>\n",
       "      <th>Año</th>\n",
       "      <th>Mes</th>\n",
       "    </tr>\n",
       "  </thead>\n",
       "  <tbody>\n",
       "    <tr>\n",
       "      <th>0</th>\n",
       "      <td>3668893.328</td>\n",
       "      <td>1</td>\n",
       "      <td>4</td>\n",
       "      <td>Andalucía</td>\n",
       "      <td>2019</td>\n",
       "      <td>1</td>\n",
       "    </tr>\n",
       "    <tr>\n",
       "      <th>1</th>\n",
       "      <td>3152278.091</td>\n",
       "      <td>1</td>\n",
       "      <td>4</td>\n",
       "      <td>Andalucía</td>\n",
       "      <td>2019</td>\n",
       "      <td>2</td>\n",
       "    </tr>\n",
       "    <tr>\n",
       "      <th>2</th>\n",
       "      <td>3216356.360</td>\n",
       "      <td>1</td>\n",
       "      <td>4</td>\n",
       "      <td>Andalucía</td>\n",
       "      <td>2019</td>\n",
       "      <td>3</td>\n",
       "    </tr>\n",
       "    <tr>\n",
       "      <th>3</th>\n",
       "      <td>3029639.973</td>\n",
       "      <td>1</td>\n",
       "      <td>4</td>\n",
       "      <td>Andalucía</td>\n",
       "      <td>2019</td>\n",
       "      <td>4</td>\n",
       "    </tr>\n",
       "    <tr>\n",
       "      <th>4</th>\n",
       "      <td>3154123.467</td>\n",
       "      <td>1</td>\n",
       "      <td>4</td>\n",
       "      <td>Andalucía</td>\n",
       "      <td>2019</td>\n",
       "      <td>5</td>\n",
       "    </tr>\n",
       "  </tbody>\n",
       "</table>\n",
       "</div>"
      ],
      "text/plain": [
       "         value  percentage  COD-CCAA       CCAA   Año  Mes\n",
       "0  3668893.328           1         4  Andalucía  2019    1\n",
       "1  3152278.091           1         4  Andalucía  2019    2\n",
       "2  3216356.360           1         4  Andalucía  2019    3\n",
       "3  3029639.973           1         4  Andalucía  2019    4\n",
       "4  3154123.467           1         4  Andalucía  2019    5"
      ]
     },
     "execution_count": 34,
     "metadata": {},
     "output_type": "execute_result"
    }
   ],
   "source": [
    "df.head()"
   ]
  },
  {
   "cell_type": "code",
   "execution_count": 42,
   "metadata": {},
   "outputs": [],
   "source": [
    "df['Año'] = df['Año'].astype(int)"
   ]
  },
  {
   "cell_type": "markdown",
   "metadata": {},
   "source": [
    "Generación Estructura Renovables"
   ]
  },
  {
   "cell_type": "code",
   "execution_count": 25,
   "metadata": {},
   "outputs": [],
   "source": [
    "# Vamos a definir las rutas de las carpetas de donde sacamos los archivos y donde queremos almacenar los resutlados después de toda la transformación\n",
    "ruta_origen_gen = 'C:\\\\Users\\\\DELL\\\\Git\\\\Laboratorio_ETL\\\\datos_generacion_estructura'\n",
    "df_generacion = pd.DataFrame() #crear df para concatenar\n",
    "for archivo in (os.listdir(ruta_origen_gen)):\n",
    "    ruta_archivo = os.path.join(ruta_origen_gen, archivo)\n",
    "    df_variante_gen = pd.read_csv(ruta_archivo, index_col=0)\n",
    "    #creo uno dentro \n",
    "    #leer el csv{archivo}\n",
    "    nombre_limpio_gen = archivo.split('.csv') #split.csv\n",
    "    # print(nombre_limpio_gen)\n",
    "    nombre_junto_ano_gen = nombre_limpio_gen[0].split('_')\n",
    "    nombre_gen = nombre_junto_ano_gen[0]\n",
    "    # print(nombre_gen)\n",
    "    fecha_gen = nombre_junto_ano_gen[1]\n",
    "    # print(fecha_gen)\n",
    "    df_variante_gen['CCAA'] = nombre_gen\n",
    "    df_variante_gen['Año'] = fecha_gen\n",
    "    df_generacion = pd.concat([df_generacion, df_variante_gen])"
   ]
  },
  {
   "cell_type": "code",
   "execution_count": 36,
   "metadata": {},
   "outputs": [
    {
     "data": {
      "text/html": [
       "<div>\n",
       "<style scoped>\n",
       "    .dataframe tbody tr th:only-of-type {\n",
       "        vertical-align: middle;\n",
       "    }\n",
       "\n",
       "    .dataframe tbody tr th {\n",
       "        vertical-align: top;\n",
       "    }\n",
       "\n",
       "    .dataframe thead th {\n",
       "        text-align: right;\n",
       "    }\n",
       "</style>\n",
       "<table border=\"1\" class=\"dataframe\">\n",
       "  <thead>\n",
       "    <tr style=\"text-align: right;\">\n",
       "      <th></th>\n",
       "      <th>value</th>\n",
       "      <th>percentage</th>\n",
       "      <th>type</th>\n",
       "      <th>COD-CCAA</th>\n",
       "      <th>CCAA</th>\n",
       "      <th>Año</th>\n",
       "      <th>Mes</th>\n",
       "    </tr>\n",
       "  </thead>\n",
       "  <tbody>\n",
       "    <tr>\n",
       "      <th>0</th>\n",
       "      <td>25288.605</td>\n",
       "      <td>0.029517</td>\n",
       "      <td>Hidráulica</td>\n",
       "      <td>4</td>\n",
       "      <td>Andalucía</td>\n",
       "      <td>2019</td>\n",
       "      <td>1</td>\n",
       "    </tr>\n",
       "    <tr>\n",
       "      <th>1</th>\n",
       "      <td>33933.350</td>\n",
       "      <td>0.030779</td>\n",
       "      <td>Hidráulica</td>\n",
       "      <td>4</td>\n",
       "      <td>Andalucía</td>\n",
       "      <td>2019</td>\n",
       "      <td>2</td>\n",
       "    </tr>\n",
       "    <tr>\n",
       "      <th>2</th>\n",
       "      <td>35913.000</td>\n",
       "      <td>0.029645</td>\n",
       "      <td>Hidráulica</td>\n",
       "      <td>4</td>\n",
       "      <td>Andalucía</td>\n",
       "      <td>2019</td>\n",
       "      <td>3</td>\n",
       "    </tr>\n",
       "    <tr>\n",
       "      <th>3</th>\n",
       "      <td>44050.848</td>\n",
       "      <td>0.041340</td>\n",
       "      <td>Hidráulica</td>\n",
       "      <td>4</td>\n",
       "      <td>Andalucía</td>\n",
       "      <td>2019</td>\n",
       "      <td>4</td>\n",
       "    </tr>\n",
       "    <tr>\n",
       "      <th>4</th>\n",
       "      <td>88535.452</td>\n",
       "      <td>0.068497</td>\n",
       "      <td>Hidráulica</td>\n",
       "      <td>4</td>\n",
       "      <td>Andalucía</td>\n",
       "      <td>2019</td>\n",
       "      <td>5</td>\n",
       "    </tr>\n",
       "  </tbody>\n",
       "</table>\n",
       "</div>"
      ],
      "text/plain": [
       "       value  percentage        type  COD-CCAA       CCAA   Año  Mes\n",
       "0  25288.605    0.029517  Hidráulica         4  Andalucía  2019    1\n",
       "1  33933.350    0.030779  Hidráulica         4  Andalucía  2019    2\n",
       "2  35913.000    0.029645  Hidráulica         4  Andalucía  2019    3\n",
       "3  44050.848    0.041340  Hidráulica         4  Andalucía  2019    4\n",
       "4  88535.452    0.068497  Hidráulica         4  Andalucía  2019    5"
      ]
     },
     "execution_count": 36,
     "metadata": {},
     "output_type": "execute_result"
    }
   ],
   "source": [
    "df_generacion.head()"
   ]
  },
  {
   "cell_type": "markdown",
   "metadata": {},
   "source": [
    "value a mwh"
   ]
  },
  {
   "cell_type": "code",
   "execution_count": 27,
   "metadata": {},
   "outputs": [
    {
     "data": {
      "text/plain": [
       "array(['2019', '2020', '2021'], dtype=object)"
      ]
     },
     "execution_count": 27,
     "metadata": {},
     "output_type": "execute_result"
    }
   ],
   "source": [
    "df_generacion['Año'].unique()"
   ]
  },
  {
   "cell_type": "code",
   "execution_count": 28,
   "metadata": {},
   "outputs": [],
   "source": [
    "df_generacion['datetime'] = df_generacion['datetime'].apply(lambda x: pd.to_datetime(x).strftime('%Y-%m')) #modifico al formato que quiero"
   ]
  },
  {
   "cell_type": "code",
   "execution_count": 29,
   "metadata": {},
   "outputs": [],
   "source": [
    "df_generacion['Mes'] = df_generacion['datetime'].apply(lambda x: pd.to_datetime(x).month) #creo la columna años"
   ]
  },
  {
   "cell_type": "code",
   "execution_count": 30,
   "metadata": {},
   "outputs": [
    {
     "data": {
      "text/html": [
       "<div>\n",
       "<style scoped>\n",
       "    .dataframe tbody tr th:only-of-type {\n",
       "        vertical-align: middle;\n",
       "    }\n",
       "\n",
       "    .dataframe tbody tr th {\n",
       "        vertical-align: top;\n",
       "    }\n",
       "\n",
       "    .dataframe thead th {\n",
       "        text-align: right;\n",
       "    }\n",
       "</style>\n",
       "<table border=\"1\" class=\"dataframe\">\n",
       "  <thead>\n",
       "    <tr style=\"text-align: right;\">\n",
       "      <th></th>\n",
       "      <th>value</th>\n",
       "      <th>percentage</th>\n",
       "      <th>datetime</th>\n",
       "      <th>type</th>\n",
       "      <th>COD-CCAA</th>\n",
       "      <th>CCAA</th>\n",
       "      <th>Año</th>\n",
       "      <th>Mes</th>\n",
       "    </tr>\n",
       "  </thead>\n",
       "  <tbody>\n",
       "    <tr>\n",
       "      <th>0</th>\n",
       "      <td>25288.605</td>\n",
       "      <td>0.029517</td>\n",
       "      <td>2019-01</td>\n",
       "      <td>Hidráulica</td>\n",
       "      <td>4</td>\n",
       "      <td>Andalucía</td>\n",
       "      <td>2019</td>\n",
       "      <td>1</td>\n",
       "    </tr>\n",
       "    <tr>\n",
       "      <th>1</th>\n",
       "      <td>33933.350</td>\n",
       "      <td>0.030779</td>\n",
       "      <td>2019-02</td>\n",
       "      <td>Hidráulica</td>\n",
       "      <td>4</td>\n",
       "      <td>Andalucía</td>\n",
       "      <td>2019</td>\n",
       "      <td>2</td>\n",
       "    </tr>\n",
       "    <tr>\n",
       "      <th>2</th>\n",
       "      <td>35913.000</td>\n",
       "      <td>0.029645</td>\n",
       "      <td>2019-03</td>\n",
       "      <td>Hidráulica</td>\n",
       "      <td>4</td>\n",
       "      <td>Andalucía</td>\n",
       "      <td>2019</td>\n",
       "      <td>3</td>\n",
       "    </tr>\n",
       "    <tr>\n",
       "      <th>3</th>\n",
       "      <td>44050.848</td>\n",
       "      <td>0.041340</td>\n",
       "      <td>2019-04</td>\n",
       "      <td>Hidráulica</td>\n",
       "      <td>4</td>\n",
       "      <td>Andalucía</td>\n",
       "      <td>2019</td>\n",
       "      <td>4</td>\n",
       "    </tr>\n",
       "    <tr>\n",
       "      <th>4</th>\n",
       "      <td>88535.452</td>\n",
       "      <td>0.068497</td>\n",
       "      <td>2019-05</td>\n",
       "      <td>Hidráulica</td>\n",
       "      <td>4</td>\n",
       "      <td>Andalucía</td>\n",
       "      <td>2019</td>\n",
       "      <td>5</td>\n",
       "    </tr>\n",
       "  </tbody>\n",
       "</table>\n",
       "</div>"
      ],
      "text/plain": [
       "       value  percentage datetime        type  COD-CCAA       CCAA   Año  Mes\n",
       "0  25288.605    0.029517  2019-01  Hidráulica         4  Andalucía  2019    1\n",
       "1  33933.350    0.030779  2019-02  Hidráulica         4  Andalucía  2019    2\n",
       "2  35913.000    0.029645  2019-03  Hidráulica         4  Andalucía  2019    3\n",
       "3  44050.848    0.041340  2019-04  Hidráulica         4  Andalucía  2019    4\n",
       "4  88535.452    0.068497  2019-05  Hidráulica         4  Andalucía  2019    5"
      ]
     },
     "execution_count": 30,
     "metadata": {},
     "output_type": "execute_result"
    }
   ],
   "source": [
    "df_generacion.head()"
   ]
  },
  {
   "cell_type": "code",
   "execution_count": 31,
   "metadata": {},
   "outputs": [],
   "source": [
    "df_generacion = df_generacion.drop(columns='datetime')"
   ]
  },
  {
   "cell_type": "code",
   "execution_count": 32,
   "metadata": {},
   "outputs": [
    {
     "name": "stdout",
     "output_type": "stream",
     "text": [
      "<class 'pandas.core.frame.DataFrame'>\n",
      "Index: 3557 entries, 0 to 11\n",
      "Data columns (total 7 columns):\n",
      " #   Column      Non-Null Count  Dtype  \n",
      "---  ------      --------------  -----  \n",
      " 0   value       3557 non-null   float64\n",
      " 1   percentage  3557 non-null   float64\n",
      " 2   type        3557 non-null   object \n",
      " 3   COD-CCAA    3557 non-null   int64  \n",
      " 4   CCAA        3557 non-null   object \n",
      " 5   Año         3557 non-null   object \n",
      " 6   Mes         3557 non-null   int64  \n",
      "dtypes: float64(2), int64(2), object(3)\n",
      "memory usage: 222.3+ KB\n"
     ]
    }
   ],
   "source": [
    "df_generacion.info() #confirmo que no tengo nulos"
   ]
  },
  {
   "cell_type": "code",
   "execution_count": 37,
   "metadata": {},
   "outputs": [
    {
     "data": {
      "text/plain": [
       "np.int64(0)"
      ]
     },
     "execution_count": 37,
     "metadata": {},
     "output_type": "execute_result"
    }
   ],
   "source": [
    "df_generacion.duplicated().sum() # no tengo duplicados"
   ]
  },
  {
   "cell_type": "code",
   "execution_count": 33,
   "metadata": {},
   "outputs": [
    {
     "data": {
      "text/html": [
       "<div>\n",
       "<style scoped>\n",
       "    .dataframe tbody tr th:only-of-type {\n",
       "        vertical-align: middle;\n",
       "    }\n",
       "\n",
       "    .dataframe tbody tr th {\n",
       "        vertical-align: top;\n",
       "    }\n",
       "\n",
       "    .dataframe thead th {\n",
       "        text-align: right;\n",
       "    }\n",
       "</style>\n",
       "<table border=\"1\" class=\"dataframe\">\n",
       "  <thead>\n",
       "    <tr style=\"text-align: right;\">\n",
       "      <th></th>\n",
       "      <th>value</th>\n",
       "      <th>percentage</th>\n",
       "      <th>type</th>\n",
       "      <th>COD-CCAA</th>\n",
       "      <th>CCAA</th>\n",
       "      <th>Año</th>\n",
       "      <th>Mes</th>\n",
       "    </tr>\n",
       "  </thead>\n",
       "  <tbody>\n",
       "    <tr>\n",
       "      <th>11</th>\n",
       "      <td>33252.448</td>\n",
       "      <td>0.033001</td>\n",
       "      <td>Hidráulica</td>\n",
       "      <td>4</td>\n",
       "      <td>Andalucía</td>\n",
       "      <td>2019</td>\n",
       "      <td>12</td>\n",
       "    </tr>\n",
       "    <tr>\n",
       "      <th>11</th>\n",
       "      <td>684672.055</td>\n",
       "      <td>0.679492</td>\n",
       "      <td>Eólica</td>\n",
       "      <td>4</td>\n",
       "      <td>Andalucía</td>\n",
       "      <td>2019</td>\n",
       "      <td>12</td>\n",
       "    </tr>\n",
       "    <tr>\n",
       "      <th>11</th>\n",
       "      <td>120605.521</td>\n",
       "      <td>0.119693</td>\n",
       "      <td>Solar fotovoltaica</td>\n",
       "      <td>4</td>\n",
       "      <td>Andalucía</td>\n",
       "      <td>2019</td>\n",
       "      <td>12</td>\n",
       "    </tr>\n",
       "    <tr>\n",
       "      <th>11</th>\n",
       "      <td>38142.147</td>\n",
       "      <td>0.037854</td>\n",
       "      <td>Solar térmica</td>\n",
       "      <td>4</td>\n",
       "      <td>Andalucía</td>\n",
       "      <td>2019</td>\n",
       "      <td>12</td>\n",
       "    </tr>\n",
       "    <tr>\n",
       "      <th>11</th>\n",
       "      <td>130950.924</td>\n",
       "      <td>0.129960</td>\n",
       "      <td>Otras renovables</td>\n",
       "      <td>4</td>\n",
       "      <td>Andalucía</td>\n",
       "      <td>2019</td>\n",
       "      <td>12</td>\n",
       "    </tr>\n",
       "    <tr>\n",
       "      <th>11</th>\n",
       "      <td>1007623.095</td>\n",
       "      <td>1.000000</td>\n",
       "      <td>Generación renovable</td>\n",
       "      <td>4</td>\n",
       "      <td>Andalucía</td>\n",
       "      <td>2019</td>\n",
       "      <td>12</td>\n",
       "    </tr>\n",
       "  </tbody>\n",
       "</table>\n",
       "</div>"
      ],
      "text/plain": [
       "          value  percentage                  type  COD-CCAA       CCAA   Año  \\\n",
       "11    33252.448    0.033001            Hidráulica         4  Andalucía  2019   \n",
       "11   684672.055    0.679492                Eólica         4  Andalucía  2019   \n",
       "11   120605.521    0.119693    Solar fotovoltaica         4  Andalucía  2019   \n",
       "11    38142.147    0.037854         Solar térmica         4  Andalucía  2019   \n",
       "11   130950.924    0.129960      Otras renovables         4  Andalucía  2019   \n",
       "11  1007623.095    1.000000  Generación renovable         4  Andalucía  2019   \n",
       "\n",
       "    Mes  \n",
       "11   12  \n",
       "11   12  \n",
       "11   12  \n",
       "11   12  \n",
       "11   12  \n",
       "11   12  "
      ]
     },
     "execution_count": 33,
     "metadata": {},
     "output_type": "execute_result"
    }
   ],
   "source": [
    "df_generacion[(df_generacion['CCAA'] == 'Andalucía') & (df_generacion['Año'] == '2019') & (df_generacion['Mes'] == 12)]"
   ]
  },
  {
   "cell_type": "code",
   "execution_count": null,
   "metadata": {},
   "outputs": [],
   "source": [
    "total = "
   ]
  },
  {
   "cell_type": "code",
   "execution_count": 38,
   "metadata": {},
   "outputs": [
    {
     "data": {
      "text/plain": [
       "value         float64\n",
       "percentage    float64\n",
       "type           object\n",
       "COD-CCAA        int64\n",
       "CCAA           object\n",
       "Año            object\n",
       "Mes             int64\n",
       "dtype: object"
      ]
     },
     "execution_count": 38,
     "metadata": {},
     "output_type": "execute_result"
    }
   ],
   "source": [
    "df_generacion.dtypes"
   ]
  },
  {
   "cell_type": "code",
   "execution_count": 40,
   "metadata": {},
   "outputs": [],
   "source": [
    "df_generacion['Año'] = df_generacion['Año'].astype(int)"
   ]
  },
  {
   "cell_type": "code",
   "execution_count": 43,
   "metadata": {},
   "outputs": [
    {
     "data": {
      "text/html": [
       "<div>\n",
       "<style scoped>\n",
       "    .dataframe tbody tr th:only-of-type {\n",
       "        vertical-align: middle;\n",
       "    }\n",
       "\n",
       "    .dataframe tbody tr th {\n",
       "        vertical-align: top;\n",
       "    }\n",
       "\n",
       "    .dataframe thead th {\n",
       "        text-align: right;\n",
       "    }\n",
       "</style>\n",
       "<table border=\"1\" class=\"dataframe\">\n",
       "  <thead>\n",
       "    <tr style=\"text-align: right;\">\n",
       "      <th></th>\n",
       "      <th>value</th>\n",
       "      <th>percentage</th>\n",
       "      <th>COD-CCAA</th>\n",
       "      <th>Año</th>\n",
       "      <th>Mes</th>\n",
       "    </tr>\n",
       "  </thead>\n",
       "  <tbody>\n",
       "    <tr>\n",
       "      <th>count</th>\n",
       "      <td>3.557000e+03</td>\n",
       "      <td>3557.000000</td>\n",
       "      <td>3557.000000</td>\n",
       "      <td>3557.000000</td>\n",
       "      <td>3557.000000</td>\n",
       "    </tr>\n",
       "    <tr>\n",
       "      <th>mean</th>\n",
       "      <td>1.855370e+05</td>\n",
       "      <td>0.364633</td>\n",
       "      <td>1246.396964</td>\n",
       "      <td>2020.000562</td>\n",
       "      <td>6.505201</td>\n",
       "    </tr>\n",
       "    <tr>\n",
       "      <th>std</th>\n",
       "      <td>3.581289e+05</td>\n",
       "      <td>0.373216</td>\n",
       "      <td>3042.813710</td>\n",
       "      <td>0.816726</td>\n",
       "      <td>3.452683</td>\n",
       "    </tr>\n",
       "    <tr>\n",
       "      <th>min</th>\n",
       "      <td>1.900000e-01</td>\n",
       "      <td>0.000002</td>\n",
       "      <td>4.000000</td>\n",
       "      <td>2019.000000</td>\n",
       "      <td>1.000000</td>\n",
       "    </tr>\n",
       "    <tr>\n",
       "      <th>25%</th>\n",
       "      <td>7.193698e+03</td>\n",
       "      <td>0.035674</td>\n",
       "      <td>8.000000</td>\n",
       "      <td>2019.000000</td>\n",
       "      <td>4.000000</td>\n",
       "    </tr>\n",
       "    <tr>\n",
       "      <th>50%</th>\n",
       "      <td>3.069304e+04</td>\n",
       "      <td>0.206367</td>\n",
       "      <td>13.000000</td>\n",
       "      <td>2020.000000</td>\n",
       "      <td>7.000000</td>\n",
       "    </tr>\n",
       "    <tr>\n",
       "      <th>75%</th>\n",
       "      <td>1.786868e+05</td>\n",
       "      <td>0.653753</td>\n",
       "      <td>20.000000</td>\n",
       "      <td>2021.000000</td>\n",
       "      <td>10.000000</td>\n",
       "    </tr>\n",
       "    <tr>\n",
       "      <th>max</th>\n",
       "      <td>3.102351e+06</td>\n",
       "      <td>1.000000</td>\n",
       "      <td>8745.000000</td>\n",
       "      <td>2021.000000</td>\n",
       "      <td>12.000000</td>\n",
       "    </tr>\n",
       "  </tbody>\n",
       "</table>\n",
       "</div>"
      ],
      "text/plain": [
       "              value   percentage     COD-CCAA          Año          Mes\n",
       "count  3.557000e+03  3557.000000  3557.000000  3557.000000  3557.000000\n",
       "mean   1.855370e+05     0.364633  1246.396964  2020.000562     6.505201\n",
       "std    3.581289e+05     0.373216  3042.813710     0.816726     3.452683\n",
       "min    1.900000e-01     0.000002     4.000000  2019.000000     1.000000\n",
       "25%    7.193698e+03     0.035674     8.000000  2019.000000     4.000000\n",
       "50%    3.069304e+04     0.206367    13.000000  2020.000000     7.000000\n",
       "75%    1.786868e+05     0.653753    20.000000  2021.000000    10.000000\n",
       "max    3.102351e+06     1.000000  8745.000000  2021.000000    12.000000"
      ]
     },
     "execution_count": 43,
     "metadata": {},
     "output_type": "execute_result"
    }
   ],
   "source": [
    "df_generacion.describe()"
   ]
  },
  {
   "cell_type": "code",
   "execution_count": 44,
   "metadata": {},
   "outputs": [],
   "source": [
    "df_generacion = df_generacion.rename(columns={\"value\": \"Energía (MWh)\"})\n"
   ]
  },
  {
   "cell_type": "code",
   "execution_count": null,
   "metadata": {},
   "outputs": [],
   "source": []
  }
 ],
 "metadata": {
  "kernelspec": {
   "display_name": "Python 3",
   "language": "python",
   "name": "python3"
  },
  "language_info": {
   "codemirror_mode": {
    "name": "ipython",
    "version": 3
   },
   "file_extension": ".py",
   "mimetype": "text/x-python",
   "name": "python",
   "nbconvert_exporter": "python",
   "pygments_lexer": "ipython3",
   "version": "3.11.9"
  }
 },
 "nbformat": 4,
 "nbformat_minor": 2
}
