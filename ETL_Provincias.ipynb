{
 "cells": [
  {
   "cell_type": "markdown",
   "metadata": {},
   "source": [
    "- **Hipótesis 1: La demanda eléctrica está correlacionada con la población de la provincia.** Provincias con mayor población tienden a tener una mayor demanda eléctrica.\n",
    "  \n",
    "- **Hipótesis 2: El crecimiento económico (medido por el PIB) está correlacionado con la demanda eléctrica.** Las provincias con un PIB más alto o en crecimiento experimentan una mayor demanda de energía.\n",
    "\n",
    "- **Hipótesis 3: La proporción de generación renovable está relacionada con factores económicos o geográficos.** Provincias con un mayor desarrollo económico o con condiciones geográficas favorables (como más horas de sol o viento) tienden a generar más energía renovable."
   ]
  },
  {
   "cell_type": "markdown",
   "metadata": {},
   "source": [
    "## Tareas Laboratorio Extracción\n",
    "\n",
    "En el laboratorio de hoy tendrás que extraer la información necesaria para obtener tu objetivo de las siguientes fuentes de datos (deberás usar API's y herramientas de *web scrapping*):\n",
    "\n",
    "- **Datos de la API de Red Eléctrica Española (REE):** Deberás extraer datos mensuales a nivel provincial de los siguientes aspectos:\n",
    "\n",
    "  - **Demanda Eléctrica:** Nos proporciona los datos de demanda eléctrica a nivel provincial, agregados de manera mensual. Tendrás que usar el endpoint de \"https://apidatos.ree.es/es/datos/demanda/evolucion\", añadiendo los parámetros que sean necesarios. \n",
    "\n",
    "  - **Generación Eléctrica:** Nos proporciona los datos de generación eléctrica a nivel provincial, diferenciando entre fuentes de energía (eólica, solar, hidroeléctrica, etc.), agregados de manera mensual. Tendrás que usar el endpoint de \"https://apidatos.ree.es/es/datos/generacion/estructura-renovables\", añadiendo los parámetros que sean necesarios.\n",
    "\n",
    "  La documentación de la API la encontrarás en [este link](https://www.ree.es/es/apidatos). Recuerda leer en detenimiento la documentación. \n",
    "\n",
    "- **Datos del Instituto Nacional de Estadística (INE):** Además de los datos de la REE, debes extraer y utilizar datos socioeconómicos de las siguientes páginas del INE:\n",
    "\n",
    "- **Datos Demográficos:** Extraer los datos de población por provincias, diferenciando por grupos de edad, sexo, y extrajeros. Estos datos serán utilizados para analizar cómo la población afecta a la demanda eléctrica en cada provincia.\n",
    "\n",
    "  - **Página web:** [INE - Población por provincias](https://www.ine.es/dyngs/INEbase/es/operacion.htm?c=Estadistica_C&cid=1254736177012&menu=resultados&idp=1254734710990)\n",
    "\n",
    "  - \"Principales series 1998-2022\" --> \"Por provincia\" --> \" Población por provincias, edad (3 grupos de edad), españoles/Extranjeros, Sexo y año\"\n",
    "\n",
    "- **Datos Económicos:**\n",
    "\n",
    "  - **Página web:** [INE - PIB por provincias](https://www.ine.es/dynt3/inebase/es/index.htm?padre=10426&capsel=10429). \n",
    "\n",
    "  - **Pasos para la extracción**:\" Resultados provinciales. Serie contable 2016-2021\" --> \"P.I.B. a precios de mercado y valor añadido bruto a precios básicos por ramas de actividad: Precios corrientes por provincias y periodo.\"\n",
    "\n",
    "\n",
    "\n",
    "NOTA1: Tienes que sacar muchos datos, pero recuerda que hemos aprendido herramientas de asincronia que te pueden ayudar en este paso de la ETL. \n",
    "\n",
    "NOTA2: Todos estos datos los debes sacar para los años 2019-2020-2021"
   ]
  },
  {
   "cell_type": "code",
   "execution_count": 1,
   "metadata": {},
   "outputs": [],
   "source": [
    "from selenium.webdriver.support.ui import WebDriverWait\n",
    "from selenium.webdriver.common.by import By\n",
    "from selenium.webdriver.support import expected_conditions as EC\n",
    "from time import sleep\n",
    "# Selenium para establecer la configuración del driver\n",
    "# -----------------------------------------------------------------------\n",
    "from selenium import webdriver\n",
    "\n",
    "# Para generar una barra de proceso en los bucles for\n",
    "# -----------------------------------------------------------------------\n",
    "from tqdm import tqdm\n",
    "\n",
    "# Para trabajar con ficheros\n",
    "# -----------------------------------------------------------------------\n",
    "import os\n",
    "\n",
    "import re\n"
   ]
  },
  {
   "cell_type": "code",
   "execution_count": 2,
   "metadata": {},
   "outputs": [],
   "source": [
    "chrome_options = webdriver.ChromeOptions()\n",
    "\n",
    "url = \"https://www.ine.es/dynt3/inebase/es/index.htm?type=pcaxis&path=/t20/e245/p08/&file=pcaxis&dh=0&capsel=2\"\n",
    "\n",
    "driver = webdriver.Chrome(options= chrome_options) # le decimos las opciones que hemos hecho previamente\n",
    "\n",
    "driver.get(url)\n",
    "driver.maximize_window()\n",
    "driver.implicitly_wait(5)"
   ]
  },
  {
   "cell_type": "code",
   "execution_count": 3,
   "metadata": {},
   "outputs": [
    {
     "name": "stdout",
     "output_type": "stream",
     "text": [
      "No encuentro el botón\n"
     ]
    }
   ],
   "source": [
    "try:\n",
    "    driver.find_element('xpath', '/html/body/div/main/section[2]/div[1]/div[1]/div[1]/ul/li/ul/li[3]/a').click()\n",
    "except: \n",
    "    print('No encuentro el botón')\n"
   ]
  },
  {
   "cell_type": "code",
   "execution_count": 4,
   "metadata": {},
   "outputs": [],
   "source": [
    "driver.execute_script(\"window.scrollBy(0, 500);\") \n",
    "sleep(3)"
   ]
  },
  {
   "cell_type": "code",
   "execution_count": 5,
   "metadata": {},
   "outputs": [],
   "source": [
    "try:\n",
    "    driver.find_element('xpath', '/html/body/div[1]/main/div[2]/ul/li[4]/ul/li[1]/a').click()\n",
    "except:\n",
    "    print('No encuentro provincia')\n",
    "sleep(3)\n"
   ]
  },
  {
   "cell_type": "code",
   "execution_count": 6,
   "metadata": {},
   "outputs": [],
   "source": [
    "try:\n",
    "    driver.find_element('xpath', '/html/body/div/main/form/ul/li[1]/ul/li[1]/div/fieldset/select/option[1]').click()\n",
    "except:\n",
    "    print('No encuentro las provincias')\n",
    "sleep(3)\n"
   ]
  },
  {
   "cell_type": "code",
   "execution_count": 7,
   "metadata": {},
   "outputs": [
    {
     "name": "stdout",
     "output_type": "stream",
     "text": [
      "No encuentro las edades\n"
     ]
    }
   ],
   "source": [
    "try:\n",
    "    driver.find_element('css selector', '#cri1').click()\n",
    "except:\n",
    "    print('No encuentro las edades')\n",
    "sleep(3)"
   ]
  },
  {
   "cell_type": "code",
   "execution_count": 8,
   "metadata": {},
   "outputs": [
    {
     "name": "stdout",
     "output_type": "stream",
     "text": [
      "No encuentro si son españoles o extranjeros\n"
     ]
    }
   ],
   "source": [
    "try:\n",
    "    driver.find_element('css selector', '#cri2').click()\n",
    "except:\n",
    "    print('No encuentro si son españoles o extranjeros')\n",
    "sleep(3)"
   ]
  },
  {
   "cell_type": "code",
   "execution_count": null,
   "metadata": {},
   "outputs": [],
   "source": [
    "try:\n",
    "    driver.find_element('css selector', '#cri3').click()\n",
    "except:\n",
    "    print('No encuentro si son españoles o extranjeros')\n",
    "sleep(3)"
   ]
  },
  {
   "cell_type": "code",
   "execution_count": 9,
   "metadata": {},
   "outputs": [],
   "source": [
    "try:\n",
    "    driver.find_element('xpath', '/html/body/div/main/form/ul/li[1]/ul/li[5]/div/fieldset/select/option[2]').click()\n",
    "except:\n",
    "    print('No encuentro si es 2021')\n",
    "sleep(3)"
   ]
  },
  {
   "cell_type": "code",
   "execution_count": 10,
   "metadata": {},
   "outputs": [],
   "source": [
    "try:\n",
    "    driver.find_element('xpath', '/html/body/div/main/form/ul/li[1]/ul/li[5]/div/fieldset/select/option[3]').click()\n",
    "except:\n",
    "    print('No encuentro si es 2020')\n",
    "sleep(3)\n"
   ]
  },
  {
   "cell_type": "code",
   "execution_count": 11,
   "metadata": {},
   "outputs": [
    {
     "name": "stdout",
     "output_type": "stream",
     "text": [
      "No encuentro si es 2019\n"
     ]
    }
   ],
   "source": [
    "try:\n",
    "    driver.find_element('css selector', '/html/body/div/main/form/ul/li[1]/ul/li[5]/div/fieldset/select/option[4]').click()\n",
    "except:\n",
    "    print('No encuentro si es 2019')\n",
    "sleep(3)"
   ]
  },
  {
   "cell_type": "code",
   "execution_count": 12,
   "metadata": {},
   "outputs": [],
   "source": [
    "# hacer click a el download\n",
    "# try:\n",
    "#     driver.find_element('xpath', '/html/body/div[1]/main/div[2]/ul/li[4]/ul/li[1]/div/a[1]').click()\n",
    "# except:\n",
    "#     print('No encuentro provincia')\n",
    "# sleep(2)"
   ]
  },
  {
   "cell_type": "code",
   "execution_count": 13,
   "metadata": {},
   "outputs": [],
   "source": [
    "# try:\n",
    "#     driver.find_element('xpath', '').click()\n",
    "# except:\n",
    "#     print('No encuentro el botón')\n",
    "# sleep(2)\n"
   ]
  },
  {
   "cell_type": "code",
   "execution_count": 14,
   "metadata": {},
   "outputs": [],
   "source": [
    "    # cod_comunidades = {'Ceuta': 8744,\n",
    "    #                     'Melilla': 8745,\n",
    "    #                     'Andalucía': 4,\n",
    "    #                     'Aragón': 5,\n",
    "    #                     'Cantabria': 6,\n",
    "    #                     'Castilla - La Mancha': 7,\n",
    "    #                     'Castilla y León': 8,\n",
    "    #                     'Cataluña': 9,\n",
    "    #                     'País Vasco': 10,\n",
    "    #                     'Principado de Asturias': 11,\n",
    "    #                     'Comunidad de Madrid': 13,\n",
    "    #                     'Comunidad Foral de Navarra': 14,\n",
    "    #                     'Comunitat Valenciana': 15,\n",
    "    #                     'Extremadura': 16,\n",
    "    #                     'Galicia': 17,\n",
    "    #                     'Illes Balears': 8743,\n",
    "    #                     'Canarias': 8742,\n",
    "    #                     'Región de Murcia': 21,\n",
    "    #                     'La Rioja': 20}"
   ]
  },
  {
   "cell_type": "code",
   "execution_count": 15,
   "metadata": {},
   "outputs": [],
   "source": [
    "# no tocar, esto llama el download\n",
    "# iframe = WebDriverWait(driver, 10).until(EC.presence_of_element_located(('xpath', '//*[@id=\"thickBoxINEfrm\"]'))) # usamos xpath porque si\n",
    "# driver.switch_to.frame(iframe) # para que busque por delante\n",
    "\n",
    "# # espera hasta que encuentre un elemento localizado \n",
    "# # p### para buscar la web de las cookies, inspeccionar y luego ctrl + f\n",
    "# try: \n",
    "#     driver.find_element(\"xpath\", '/html/body/ul/li[4]/a').click()\n",
    "# except:\n",
    "#     print('No encuentro el botón')\n",
    "# sleep(5)\n",
    "# driver.switch_to.default_content()"
   ]
  }
 ],
 "metadata": {
  "kernelspec": {
   "display_name": "Python 3",
   "language": "python",
   "name": "python3"
  },
  "language_info": {
   "codemirror_mode": {
    "name": "ipython",
    "version": 3
   },
   "file_extension": ".py",
   "mimetype": "text/x-python",
   "name": "python",
   "nbconvert_exporter": "python",
   "pygments_lexer": "ipython3",
   "version": "3.11.9"
  }
 },
 "nbformat": 4,
 "nbformat_minor": 2
}
