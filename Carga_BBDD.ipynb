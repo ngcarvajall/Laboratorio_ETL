{
 "cells": [
  {
   "cell_type": "code",
   "execution_count": 1,
   "metadata": {},
   "outputs": [],
   "source": [
    "import pandas as pd\n",
    "import psycopg2\n",
    "from psycopg2 import OperationalError, errorcodes, errors\n",
    "import numpy as np"
   ]
  },
  {
   "cell_type": "code",
   "execution_count": 2,
   "metadata": {},
   "outputs": [],
   "source": [
    "df_datos_demo = pd.read_csv(\"C:\\\\Users\\\\DELL\\\\Git\\\\Laboratorio_ETL\\\\datos\\\\datos_demograficos.csv\")\n",
    "df_datos_generacion = pd.read_csv(\"C:\\\\Users\\\\DELL\\\\Git\\\\Laboratorio_ETL\\\\datos\\\\datos_generacion.csv\")\n",
    "df_datos_PIB = pd.read_csv(\"C:\\\\Users\\\\DELL\\\\Git\\\\Laboratorio_ETL\\\\datos\\\\datos_PIB.csv\")\n",
    "df_anio = pd.read_csv(\"C:\\\\Users\\\\DELL\\\\Git\\\\Laboratorio_ETL\\\\datos\\\\df_anio.csv\")\n",
    "df_ccaa= pd.read_csv(\"C:\\\\Users\\\\DELL\\\\Git\\\\Laboratorio_ETL\\\\datos\\\\df_ccaa.csv\")\n",
    "df_demanda = pd.read_csv(\"C:\\\\Users\\\\DELL\\\\Git\\\\Laboratorio_ETL\\\\datos\\\\df_demanda.csv\")\n",
    "df_edades = pd.read_csv(\"C:\\\\Users\\\\DELL\\\\Git\\\\Laboratorio_ETL\\\\datos\\\\df_edades.csv\")\n",
    "df_nac_extran = pd.read_csv(\"C:\\\\Users\\\\DELL\\\\Git\\\\Laboratorio_ETL\\\\datos\\\\df_nac_extran.csv\")\n",
    "df_provincias = pd.read_csv(\"C:\\\\Users\\\\DELL\\\\Git\\\\Laboratorio_ETL\\\\datos\\\\df_provincias.csv\")\n",
    "df_sexos = pd.read_csv(\"C:\\\\Users\\\\DELL\\\\Git\\\\Laboratorio_ETL\\\\datos\\\\df_sexos.csv\")\n",
    "df_tipo_generacion = pd.read_csv(\"C:\\\\Users\\\\DELL\\\\Git\\\\Laboratorio_ETL\\\\datos\\\\df_tipo_generacion.csv\")"
   ]
  },
  {
   "cell_type": "code",
   "execution_count": 19,
   "metadata": {},
   "outputs": [
    {
     "data": {
      "text/html": [
       "<div>\n",
       "<style scoped>\n",
       "    .dataframe tbody tr th:only-of-type {\n",
       "        vertical-align: middle;\n",
       "    }\n",
       "\n",
       "    .dataframe tbody tr th {\n",
       "        vertical-align: top;\n",
       "    }\n",
       "\n",
       "    .dataframe thead th {\n",
       "        text-align: right;\n",
       "    }\n",
       "</style>\n",
       "<table border=\"1\" class=\"dataframe\">\n",
       "  <thead>\n",
       "    <tr style=\"text-align: right;\">\n",
       "      <th></th>\n",
       "      <th>Energía (MWh)</th>\n",
       "      <th>Porcentage de Generación Renovable</th>\n",
       "      <th>COD-CCAA</th>\n",
       "      <th>Mes</th>\n",
       "      <th>Tipo de energía</th>\n",
       "      <th>ID_Año</th>\n",
       "    </tr>\n",
       "  </thead>\n",
       "  <tbody>\n",
       "    <tr>\n",
       "      <th>0</th>\n",
       "      <td>25288.605</td>\n",
       "      <td>0.029517</td>\n",
       "      <td>4</td>\n",
       "      <td>1</td>\n",
       "      <td>1</td>\n",
       "      <td>1</td>\n",
       "    </tr>\n",
       "    <tr>\n",
       "      <th>1</th>\n",
       "      <td>33933.350</td>\n",
       "      <td>0.030779</td>\n",
       "      <td>4</td>\n",
       "      <td>2</td>\n",
       "      <td>1</td>\n",
       "      <td>1</td>\n",
       "    </tr>\n",
       "    <tr>\n",
       "      <th>2</th>\n",
       "      <td>35913.000</td>\n",
       "      <td>0.029645</td>\n",
       "      <td>4</td>\n",
       "      <td>3</td>\n",
       "      <td>1</td>\n",
       "      <td>1</td>\n",
       "    </tr>\n",
       "    <tr>\n",
       "      <th>3</th>\n",
       "      <td>44050.848</td>\n",
       "      <td>0.041340</td>\n",
       "      <td>4</td>\n",
       "      <td>4</td>\n",
       "      <td>1</td>\n",
       "      <td>1</td>\n",
       "    </tr>\n",
       "    <tr>\n",
       "      <th>4</th>\n",
       "      <td>88535.452</td>\n",
       "      <td>0.068497</td>\n",
       "      <td>4</td>\n",
       "      <td>5</td>\n",
       "      <td>1</td>\n",
       "      <td>1</td>\n",
       "    </tr>\n",
       "  </tbody>\n",
       "</table>\n",
       "</div>"
      ],
      "text/plain": [
       "   Energía (MWh)  Porcentage de Generación Renovable  COD-CCAA  Mes  \\\n",
       "0      25288.605                            0.029517         4    1   \n",
       "1      33933.350                            0.030779         4    2   \n",
       "2      35913.000                            0.029645         4    3   \n",
       "3      44050.848                            0.041340         4    4   \n",
       "4      88535.452                            0.068497         4    5   \n",
       "\n",
       "   Tipo de energía  ID_Año  \n",
       "0                1       1  \n",
       "1                1       1  \n",
       "2                1       1  \n",
       "3                1       1  \n",
       "4                1       1  "
      ]
     },
     "execution_count": 19,
     "metadata": {},
     "output_type": "execute_result"
    }
   ],
   "source": [
    "df_datos_generacion.head()"
   ]
  },
  {
   "cell_type": "code",
   "execution_count": 20,
   "metadata": {},
   "outputs": [
    {
     "data": {
      "text/plain": [
       "Energía (MWh)                         float64\n",
       "Porcentage de Generación Renovable    float64\n",
       "COD-CCAA                                int64\n",
       "Mes                                     int64\n",
       "Tipo de energía                         int64\n",
       "ID_Año                                  int64\n",
       "dtype: object"
      ]
     },
     "execution_count": 20,
     "metadata": {},
     "output_type": "execute_result"
    }
   ],
   "source": [
    "df_datos_generacion.dtypes"
   ]
  },
  {
   "cell_type": "code",
   "execution_count": 4,
   "metadata": {},
   "outputs": [],
   "source": [
    "df_datos_demo = df_datos_demo.merge(df_anio, how='inner', left_on= 'Año', right_on= 'Año').drop(columns='Año')\n",
    "df_datos_generacion = df_datos_generacion.merge(df_anio, how='inner', left_on= 'Año', right_on= 'Año').drop(columns='Año')\n",
    "df_datos_PIB = df_datos_PIB.merge(df_anio, how='inner', left_on= 'Año', right_on= 'Año').drop(columns='Año')\n",
    "df_demanda = df_demanda.merge(df_anio, how='inner', left_on= 'Año', right_on= 'Año').drop(columns='Año')"
   ]
  },
  {
   "cell_type": "code",
   "execution_count": 6,
   "metadata": {},
   "outputs": [],
   "source": [
    "try:\n",
    "    conexion = psycopg2.connect(\n",
    "    database = 'ETL',\n",
    "    user = 'postgres',\n",
    "    password = 'admin',\n",
    "    host = 'localhost',\n",
    "    port = '5432')\n",
    "except OperationalError as e: #el alias es e\n",
    "    if e.pgcode == errorcodes.INVALID_PASSWORD:\n",
    "        print('la contraseña es erronea')\n",
    "    elif e.pgcode == errorcodes.CONNECTION_EXCEPTION:\n",
    "        print('error de conexion')\n",
    "    else:\n",
    "        print(f'el error es el siguiente {e}')"
   ]
  },
  {
   "cell_type": "code",
   "execution_count": 7,
   "metadata": {},
   "outputs": [],
   "source": [
    "cursor = conexion.cursor() #para crear la tabla desde aquí\n",
    "query_creacion_CCAA = \"\"\" \n",
    "    CREATE TABLE IF NOT EXISTS ccaa (\n",
    "    COD_CCAA int PRIMARY KEY,\n",
    "    CCAA varchar(100));\n",
    "\n",
    "\"\"\"\n",
    "\n",
    "cursor.execute(query_creacion_CCAA)\n",
    "conexion.commit()"
   ]
  },
  {
   "cell_type": "code",
   "execution_count": 8,
   "metadata": {},
   "outputs": [],
   "source": [
    "cursor = conexion.cursor() #para crear la tabla desde aquí\n",
    "query_creacion_type_gen = \"\"\" \n",
    "    CREATE TABLE IF NOT EXISTS tipo_generacion (\n",
    "    id_tipo_generacion int PRIMARY KEY,\n",
    "    tipo_generacion varchar(100));\n",
    "\n",
    "\"\"\"\n",
    "\n",
    "cursor.execute(query_creacion_type_gen)\n",
    "conexion.commit()"
   ]
  },
  {
   "cell_type": "code",
   "execution_count": 9,
   "metadata": {},
   "outputs": [],
   "source": [
    "cursor = conexion.cursor() #para crear la tabla desde aquí\n",
    "query_creacion_sexo = \"\"\" \n",
    "    CREATE TABLE IF NOT EXISTS sexo (\n",
    "    id_sexo int PRIMARY KEY,\n",
    "    Sexo varchar(100));\n",
    "\n",
    "\"\"\"\n",
    "\n",
    "cursor.execute(query_creacion_sexo)\n",
    "conexion.commit()"
   ]
  },
  {
   "cell_type": "code",
   "execution_count": 10,
   "metadata": {},
   "outputs": [],
   "source": [
    "cursor = conexion.cursor() #para crear la tabla desde aquí\n",
    "query_creacion_grupo_edades = \"\"\" \n",
    "    CREATE TABLE IF NOT EXISTS edad (\n",
    "    id_grupo_edad int PRIMARY KEY,\n",
    "    grupo_edad varchar(100));\n",
    "\n",
    "\"\"\"\n",
    "\n",
    "cursor.execute(query_creacion_grupo_edades)\n",
    "conexion.commit()"
   ]
  },
  {
   "cell_type": "code",
   "execution_count": 11,
   "metadata": {},
   "outputs": [],
   "source": [
    "cursor = conexion.cursor() #para crear la tabla desde aquí\n",
    "query_creacion_grupo_nac_extr = \"\"\" \n",
    "    CREATE TABLE IF NOT EXISTS nacionales_extranjeros (\n",
    "    id_nacional_extranjero int PRIMARY KEY,\n",
    "    categoria varchar(100));\n",
    "\n",
    "\"\"\"\n",
    "\n",
    "cursor.execute(query_creacion_grupo_nac_extr)\n",
    "conexion.commit()"
   ]
  },
  {
   "cell_type": "code",
   "execution_count": 12,
   "metadata": {},
   "outputs": [],
   "source": [
    "cursor = conexion.cursor() #para crear la tabla desde aquí\n",
    "query_creacion_provincias = \"\"\" \n",
    "    CREATE TABLE IF NOT EXISTS provincias (\n",
    "    id_provincia int PRIMARY KEY,\n",
    "    provincia varchar(100));\n",
    "\n",
    "\"\"\"\n",
    "\n",
    "cursor.execute(query_creacion_provincias)\n",
    "conexion.commit()"
   ]
  },
  {
   "cell_type": "code",
   "execution_count": 14,
   "metadata": {},
   "outputs": [],
   "source": [
    "cursor = conexion.cursor() #para crear la tabla desde aquí\n",
    "query_creacion_anio = \"\"\" \n",
    "    CREATE TABLE IF NOT EXISTS anio (\n",
    "    id_anio int PRIMARY KEY,\n",
    "    anio int);\n",
    "\n",
    "\"\"\"\n",
    "\n",
    "cursor.execute(query_creacion_anio)\n",
    "conexion.commit()"
   ]
  },
  {
   "cell_type": "code",
   "execution_count": null,
   "metadata": {},
   "outputs": [],
   "source": [
    "cursor = conexion.cursor() #para crear la tabla desde aquí\n",
    "query_creacion_d_demo = \"\"\" \n",
    "    CREATE TABLE IF NOT EXISTS datos_demograficos (\n",
    "    total int,\n",
    "    id_provincia int, \n",
    "    id_grupo_edad int,\n",
    "    id_nacional_extranjero int,\n",
    "    id_sexo int, \n",
    "    id_anio int,     \n",
    "    CONSTRAINT fk_provincias FOREIGN KEY (id_provincia)\n",
    "        REFERENCES provincias(id_provincia),\n",
    "    CONSTRAINT fk_edad FOREIGN KEY (id_grupo_edad)\n",
    "        REFERENCES edad(id_grupo_edad),\n",
    "    CONSTRAINT fk_nacionales_extranjeros FOREIGN KEY (id_nacional_extranjero)\n",
    "        REFERENCES nacionales_extranjeros(id_nacional_extranjero),\n",
    "    CONSTRAINT fk_sexo FOREIGN KEY (id_sexo)\n",
    "        REFERENCES sexo(id_sexo),\n",
    "    CONSTRAINT fk_anio FOREIGN KEY (id_anio)\n",
    "        REFERENCES anio(id_anio)\n",
    "\n",
    ");\n",
    "\n",
    "\"\"\"\n",
    "\n",
    "cursor.execute(query_creacion_d_demo)\n",
    "conexion.commit()"
   ]
  },
  {
   "cell_type": "code",
   "execution_count": null,
   "metadata": {},
   "outputs": [],
   "source": [
    "cursor = conexion.cursor() #para crear la tabla desde aquí\n",
    "query_creacion_pib = \"\"\" \n",
    "    CREATE TABLE IF NOT EXISTS pib (\n",
    "    ramas_actividad varchar(100),\n",
    "    total int, \n",
    "    id_provincia int,\n",
    "    id_anio int,     \n",
    "    CONSTRAINT fk_provincias FOREIGN KEY (id_provincia)\n",
    "        REFERENCES provincias(id_provincia),\n",
    "    CONSTRAINT fk_anio FOREIGN KEY (id_anio)\n",
    "        REFERENCES anio(id_anio)\n",
    "\n",
    ");\n",
    "\n",
    "\"\"\"\n",
    "\n",
    "cursor.execute(query_creacion_pib)\n",
    "conexion.commit()"
   ]
  },
  {
   "cell_type": "code",
   "execution_count": null,
   "metadata": {},
   "outputs": [],
   "source": [
    "cursor = conexion.cursor() #para crear la tabla desde aquí\n",
    "query_creacion_generacion = \"\"\" \n",
    "    CREATE TABLE IF NOT EXISTS generacion (\n",
    "    energia (mwh) float,\n",
    "    porcentage_generacion int, \n",
    "    COD_CCAA int,\n",
    "    mes int,\n",
    "    id_tipo_generacion int, \n",
    "    id_anio int,     \n",
    "    CONSTRAINT fk_COD_CCAA FOREIGN KEY (COD_CCAA)\n",
    "        REFERENCES COD_CCAA(COD_CCAA),\n",
    "    CONSTRAINT fk_tipo_generacion FOREIGN KEY (id_tipo_generacion)\n",
    "        REFERENCES tipo_generacion(id_tipo_generacion),\n",
    "    CONSTRAINT fk_anio FOREIGN KEY (id_anio)\n",
    "        REFERENCES anio(id_anio)\n",
    "\n",
    ");\n",
    "\n",
    "\"\"\"\n",
    "\n",
    "cursor.execute(query_creacion_generacion)\n",
    "conexion.commit()"
   ]
  },
  {
   "cell_type": "code",
   "execution_count": null,
   "metadata": {},
   "outputs": [],
   "source": [
    "cursor = conexion.cursor() #para crear la tabla desde aquí\n",
    "query_creacion_generacion = \"\"\" \n",
    "    CREATE TABLE IF NOT EXISTS generacion (\n",
    "    energia (mwh) float,\n",
    "    porcentage_generacion int, \n",
    "    COD_CCAA int,\n",
    "    mes int,\n",
    "    id_tipo_generacion int, \n",
    "    id_anio int,     \n",
    "    CONSTRAINT fk_COD_CCAA FOREIGN KEY (COD_CCAA)\n",
    "        REFERENCES COD_CCAA(COD_CCAA),\n",
    "    CONSTRAINT fk_tipo_generacion FOREIGN KEY (id_tipo_generacion)\n",
    "        REFERENCES tipo_generacion(id_tipo_generacion),\n",
    "    CONSTRAINT fk_anio FOREIGN KEY (id_anio)\n",
    "        REFERENCES anio(id_anio)\n",
    "\n",
    ");\n",
    "\n",
    "\"\"\"\n",
    "\n",
    "cursor.execute(query_creacion_generacion)\n",
    "conexion.commit()"
   ]
  }
 ],
 "metadata": {
  "kernelspec": {
   "display_name": "Python 3",
   "language": "python",
   "name": "python3"
  },
  "language_info": {
   "codemirror_mode": {
    "name": "ipython",
    "version": 3
   },
   "file_extension": ".py",
   "mimetype": "text/x-python",
   "name": "python",
   "nbconvert_exporter": "python",
   "pygments_lexer": "ipython3",
   "version": "3.11.9"
  }
 },
 "nbformat": 4,
 "nbformat_minor": 2
}
