{
 "cells": [
  {
   "cell_type": "markdown",
   "metadata": {},
   "source": [
    "API - Datos Red Eléctrica"
   ]
  },
  {
   "cell_type": "code",
   "execution_count": 9,
   "metadata": {},
   "outputs": [],
   "source": [
    "import requests\n",
    "#import pandas as pd\n",
    "import dotenv as dotenv\n",
    "import os\n",
    "\n",
    "\n",
    "# Para generar una barra de proceso en los bucles for\n",
    "# -----------------------------------------------------------------------\n",
    "from tqdm import tqdm\n",
    "\n",
    "# Para trabajar con ficheros\n",
    "# -----------------------------------------------------------------------\n",
    "import os\n",
    "import pandas as pd\n",
    "import re"
   ]
  },
  {
   "cell_type": "code",
   "execution_count": 10,
   "metadata": {},
   "outputs": [],
   "source": [
    "cod_comunidades = {'Ceuta': 8744,\n",
    "                        'Melilla': 8745,\n",
    "                        'Andalucía': 4,\n",
    "                        'Aragón': 5,\n",
    "                        'Cantabria': 6,\n",
    "                        'Castilla - La Mancha': 7,\n",
    "                        'Castilla y León': 8,\n",
    "                        'Cataluña': 9,\n",
    "                        'País Vasco': 10,\n",
    "                        'Principado de Asturias': 11,\n",
    "                        'Comunidad de Madrid': 13,\n",
    "                        'Comunidad Foral de Navarra': 14,\n",
    "                        'Comunitat Valenciana': 15,\n",
    "                        'Extremadura': 16,\n",
    "                        'Galicia': 17,\n",
    "                        'Illes Balears': 8743,\n",
    "                        'Canarias': 8742,\n",
    "                        'Región de Murcia': 21,\n",
    "                        'La Rioja': 20}"
   ]
  },
  {
   "cell_type": "code",
   "execution_count": 11,
   "metadata": {},
   "outputs": [],
   "source": [
    "anios = [2019,2020,2021]\n",
    "# me hago la lista de años que busco"
   ]
  },
  {
   "cell_type": "markdown",
   "metadata": {},
   "source": [
    "API - Demanda Eléctrica"
   ]
  },
  {
   "cell_type": "code",
   "execution_count": 91,
   "metadata": {},
   "outputs": [],
   "source": [
    "headers={\"Accept\": \"application/json\",\n",
    "\"Content-Type\": \"application/json\",\n",
    "\"Host\": \"apidatos.ree.es\"}\n",
    "# creo mi destino\n",
    "ruta = \"C:\\\\Users\\\\DELL\\\\Git\\\\Laboratorio_ETL\\\\datos_demanda_electrica\"\n",
    "os.makedirs(ruta, exist_ok=True)\n",
    "# si existe bien, si no pues la crea\n",
    "for i in anios: #itero en años\n",
    "    for name, cod in cod_comunidades.items(): #itero en comunicades\n",
    "        url_demanda_electrica = f'https://apidatos.ree.es/es/datos/demanda/evolucion?start_date={i}-01-01T00:00&end_date={i}-12-31T23:59&time_trunc=month&geo_trunk=electric_system&geo_limit=ccaa&geo_ids={cod}'\n",
    "\n",
    "        response = requests.get(url_demanda_electrica, headers=headers)\n",
    "        if response.status_code == 200:\n",
    "            response_json= response.json()\n",
    "            df_demanda_electrica= pd.DataFrame(response_json['included'][0]['attributes']['values']) #tomo el primero porque solo hay uno\n",
    "            df_demanda_electrica['COD-CCAA'] = cod\n",
    "            df_demanda_electrica.to_csv(os.path.join(ruta, f'{name}_{i}.csv'))\n",
    "        else: \n",
    "            print(f'El error es {response.status_code} en {name} para el annio {i}')"
   ]
  },
  {
   "cell_type": "code",
   "execution_count": 72,
   "metadata": {},
   "outputs": [
    {
     "data": {
      "text/plain": [
       "{'data': {'type': 'Evolución de la demanda',\n",
       "  'id': 'dem1',\n",
       "  'attributes': {'title': 'Evolución de la demanda',\n",
       "   'last-update': '2022-01-11T09:21:30.000+01:00',\n",
       "   'description': None},\n",
       "  'meta': {'cache-control': {'cache': 'HIT',\n",
       "    'expireAt': '2024-11-28T05:55:18'}}},\n",
       " 'included': [{'type': 'Demanda',\n",
       "   'id': '10339',\n",
       "   'groupId': None,\n",
       "   'attributes': {'title': 'Demanda',\n",
       "    'description': None,\n",
       "    'color': '#ffea00',\n",
       "    'type': None,\n",
       "    'magnitude': None,\n",
       "    'composite': False,\n",
       "    'last-update': '2022-11-10T23:30:07.000+01:00',\n",
       "    'values': [{'value': 146298.76,\n",
       "      'percentage': 1,\n",
       "      'datetime': '2021-01-01T00:00:00.000+01:00'},\n",
       "     {'value': 129503.338,\n",
       "      'percentage': 1,\n",
       "      'datetime': '2021-02-01T00:00:00.000+01:00'},\n",
       "     {'value': 144652.408,\n",
       "      'percentage': 1,\n",
       "      'datetime': '2021-03-01T00:00:00.000+01:00'},\n",
       "     {'value': 129506.033,\n",
       "      'percentage': 1,\n",
       "      'datetime': '2021-04-01T00:00:00.000+02:00'},\n",
       "     {'value': 130651.022,\n",
       "      'percentage': 1,\n",
       "      'datetime': '2021-05-01T00:00:00.000+02:00'},\n",
       "     {'value': 128050.949,\n",
       "      'percentage': 1,\n",
       "      'datetime': '2021-06-01T00:00:00.000+02:00'},\n",
       "     {'value': 140864.511,\n",
       "      'percentage': 1,\n",
       "      'datetime': '2021-07-01T00:00:00.000+02:00'},\n",
       "     {'value': 130850.035,\n",
       "      'percentage': 1,\n",
       "      'datetime': '2021-08-01T00:00:00.000+02:00'},\n",
       "     {'value': 133323.629,\n",
       "      'percentage': 1,\n",
       "      'datetime': '2021-09-01T00:00:00.000+02:00'},\n",
       "     {'value': 135918.94,\n",
       "      'percentage': 1,\n",
       "      'datetime': '2021-10-01T00:00:00.000+02:00'},\n",
       "     {'value': 140846.25,\n",
       "      'percentage': 1,\n",
       "      'datetime': '2021-11-01T00:00:00.000+01:00'},\n",
       "     {'value': 141258.077,\n",
       "      'percentage': 1,\n",
       "      'datetime': '2021-12-01T00:00:00.000+01:00'}]}}]}"
      ]
     },
     "execution_count": 72,
     "metadata": {},
     "output_type": "execute_result"
    }
   ],
   "source": [
    "response_json"
   ]
  },
  {
   "cell_type": "code",
   "execution_count": 73,
   "metadata": {},
   "outputs": [
    {
     "data": {
      "text/plain": [
       "{'type': 'Demanda',\n",
       " 'id': '10339',\n",
       " 'groupId': None,\n",
       " 'attributes': {'title': 'Demanda',\n",
       "  'description': None,\n",
       "  'color': '#ffea00',\n",
       "  'type': None,\n",
       "  'magnitude': None,\n",
       "  'composite': False,\n",
       "  'last-update': '2022-11-10T23:30:07.000+01:00',\n",
       "  'values': [{'value': 146298.76,\n",
       "    'percentage': 1,\n",
       "    'datetime': '2021-01-01T00:00:00.000+01:00'},\n",
       "   {'value': 129503.338,\n",
       "    'percentage': 1,\n",
       "    'datetime': '2021-02-01T00:00:00.000+01:00'},\n",
       "   {'value': 144652.408,\n",
       "    'percentage': 1,\n",
       "    'datetime': '2021-03-01T00:00:00.000+01:00'},\n",
       "   {'value': 129506.033,\n",
       "    'percentage': 1,\n",
       "    'datetime': '2021-04-01T00:00:00.000+02:00'},\n",
       "   {'value': 130651.022,\n",
       "    'percentage': 1,\n",
       "    'datetime': '2021-05-01T00:00:00.000+02:00'},\n",
       "   {'value': 128050.949,\n",
       "    'percentage': 1,\n",
       "    'datetime': '2021-06-01T00:00:00.000+02:00'},\n",
       "   {'value': 140864.511,\n",
       "    'percentage': 1,\n",
       "    'datetime': '2021-07-01T00:00:00.000+02:00'},\n",
       "   {'value': 130850.035,\n",
       "    'percentage': 1,\n",
       "    'datetime': '2021-08-01T00:00:00.000+02:00'},\n",
       "   {'value': 133323.629,\n",
       "    'percentage': 1,\n",
       "    'datetime': '2021-09-01T00:00:00.000+02:00'},\n",
       "   {'value': 135918.94,\n",
       "    'percentage': 1,\n",
       "    'datetime': '2021-10-01T00:00:00.000+02:00'},\n",
       "   {'value': 140846.25,\n",
       "    'percentage': 1,\n",
       "    'datetime': '2021-11-01T00:00:00.000+01:00'},\n",
       "   {'value': 141258.077,\n",
       "    'percentage': 1,\n",
       "    'datetime': '2021-12-01T00:00:00.000+01:00'}]}}"
      ]
     },
     "execution_count": 73,
     "metadata": {},
     "output_type": "execute_result"
    }
   ],
   "source": [
    "response_json['included'][0]"
   ]
  },
  {
   "cell_type": "code",
   "execution_count": 62,
   "metadata": {},
   "outputs": [
    {
     "data": {
      "text/plain": [
       "1"
      ]
     },
     "execution_count": 62,
     "metadata": {},
     "output_type": "execute_result"
    }
   ],
   "source": [
    "len(response_json['included'])"
   ]
  },
  {
   "cell_type": "markdown",
   "metadata": {},
   "source": [
    "Api - Generación"
   ]
  },
  {
   "cell_type": "code",
   "execution_count": 89,
   "metadata": {},
   "outputs": [
    {
     "name": "stdout",
     "output_type": "stream",
     "text": [
      "Error 502 en la Ceuta para el año 2019\n",
      "Error 502 en la Ceuta para el año 2020\n",
      "Error 503 en la Cataluña para el año 2020\n",
      "Error 502 en la Ceuta para el año 2021\n"
     ]
    }
   ],
   "source": [
    "headers={\"Accept\": \"application/json\",\n",
    "\"Content-Type\": \"application/json\",\n",
    "\"Host\": \"apidatos.ree.es\"}\n",
    "\n",
    "ruta_g = \"C:\\\\Users\\\\DELL\\\\Git\\\\Laboratorio_ETL\\\\datos_generacion_estructura\"\n",
    "os.makedirs(ruta_g, exist_ok=True)\n",
    "\n",
    "for i in anios:\n",
    "    for name, cod in cod_comunidades.items():\n",
    "        url_generacion_renovable = f'https://apidatos.ree.es/es/datos/generacion/estructura-renovables?start_date={i}-01-01T00:00&end_date={i}-12-31T23:59&time_trunc=month&geo_trunk=electric_system&geo_limit=ccaa&geo_ids={cod}'\n",
    "\n",
    "        response_generacion = requests.get(url_generacion_renovable, headers=headers) # me dio problemas, veamos el porqué\n",
    "        if response_generacion.status_code == 200:\n",
    "            response_generacion_json = response_generacion.json()\n",
    "            lista_df = []\n",
    "            for j in range(len(response_generacion_json['included'])): #itero aquí porque son varios elementos \n",
    "                df_generacion_estructura = pd.DataFrame(response_generacion_json['included'][j]['attributes']['values'])\n",
    "                df_generacion_estructura['type'] = response_generacion_json['included'][j]['type']\n",
    "                df_generacion_estructura['COD-CCAA'] = cod\n",
    "                lista_df.append(df_generacion_estructura)\n",
    "            df_final = pd.concat(lista_df).to_csv(os.path.join(ruta_g, f'{name}_{i}.csv'))\n",
    "        else:\n",
    "            print(f\"Error {response_generacion.status_code} en la {name} para el año {i}\")\n",
    "\n",
    "        #recuerda que te equivocaste primero, prueba con response_json\n",
    "        # será que se sobreescribe o se apendea\n",
    "        # trata de poner el codigo de cada comunidad"
   ]
  },
  {
   "cell_type": "code",
   "execution_count": 47,
   "metadata": {},
   "outputs": [
    {
     "data": {
      "text/plain": [
       "dict_keys(['data', 'included'])"
      ]
     },
     "execution_count": 47,
     "metadata": {},
     "output_type": "execute_result"
    }
   ],
   "source": [
    "response_generacion_json.keys()"
   ]
  },
  {
   "cell_type": "code",
   "execution_count": 88,
   "metadata": {},
   "outputs": [
    {
     "data": {
      "text/plain": [
       "[{'type': 'Hidráulica',\n",
       "  'id': '10330',\n",
       "  'groupId': '1',\n",
       "  'attributes': {'title': 'Hidráulica',\n",
       "   'description': 'Hidráulica: no incluye la generación bombeo.',\n",
       "   'color': '#0090d1',\n",
       "   'type': None,\n",
       "   'magnitude': None,\n",
       "   'composite': False,\n",
       "   'last-update': '2022-01-13T12:43:08.000+01:00',\n",
       "   'values': [{'value': 15402.108,\n",
       "     'percentage': 0.1042379755922421,\n",
       "     'datetime': '2021-01-01T00:00:00.000+01:00'},\n",
       "    {'value': 20891.095,\n",
       "     'percentage': 0.19116304592730085,\n",
       "     'datetime': '2021-02-01T00:00:00.000+01:00'},\n",
       "    {'value': 17755.933,\n",
       "     'percentage': 0.1289102793122252,\n",
       "     'datetime': '2021-03-01T00:00:00.000+01:00'},\n",
       "    {'value': 12484.9,\n",
       "     'percentage': 0.11947567243380085,\n",
       "     'datetime': '2021-04-01T00:00:00.000+02:00'},\n",
       "    {'value': 12626.526,\n",
       "     'percentage': 0.18238770633844256,\n",
       "     'datetime': '2021-05-01T00:00:00.000+02:00'},\n",
       "    {'value': 10694.393,\n",
       "     'percentage': 0.15929420573501224,\n",
       "     'datetime': '2021-06-01T00:00:00.000+02:00'},\n",
       "    {'value': 12821.849,\n",
       "     'percentage': 0.14654801357268663,\n",
       "     'datetime': '2021-07-01T00:00:00.000+02:00'},\n",
       "    {'value': 14016.445,\n",
       "     'percentage': 0.1688789720088858,\n",
       "     'datetime': '2021-08-01T00:00:00.000+02:00'},\n",
       "    {'value': 6190.632,\n",
       "     'percentage': 0.10555017912713628,\n",
       "     'datetime': '2021-09-01T00:00:00.000+02:00'},\n",
       "    {'value': 2813.361,\n",
       "     'percentage': 0.03877127771142932,\n",
       "     'datetime': '2021-10-01T00:00:00.000+02:00'},\n",
       "    {'value': 5796.517,\n",
       "     'percentage': 0.03599983658674678,\n",
       "     'datetime': '2021-11-01T00:00:00.000+01:00'},\n",
       "    {'value': 9853.422,\n",
       "     'percentage': 0.09791881396287727,\n",
       "     'datetime': '2021-12-01T00:00:00.000+01:00'}]}},\n",
       " {'type': 'Eólica',\n",
       "  'id': '10333',\n",
       "  'groupId': '1',\n",
       "  'attributes': {'title': 'Eólica',\n",
       "   'description': None,\n",
       "   'color': '#6fb114',\n",
       "   'type': None,\n",
       "   'magnitude': None,\n",
       "   'composite': False,\n",
       "   'last-update': '2022-11-10T23:30:06.000+01:00',\n",
       "   'values': [{'value': 126564.559,\n",
       "     'percentage': 0.8565602456420176,\n",
       "     'datetime': '2021-01-01T00:00:00.000+01:00'},\n",
       "    {'value': 80023.713,\n",
       "     'percentage': 0.7322534660577698,\n",
       "     'datetime': '2021-02-01T00:00:00.000+01:00'},\n",
       "    {'value': 106078.27,\n",
       "     'percentage': 0.7701414177817432,\n",
       "     'datetime': '2021-03-01T00:00:00.000+01:00'},\n",
       "    {'value': 78024.301,\n",
       "     'percentage': 0.7466624344730259,\n",
       "     'datetime': '2021-04-01T00:00:00.000+02:00'},\n",
       "    {'value': 39047.666,\n",
       "     'percentage': 0.564035922438966,\n",
       "     'datetime': '2021-05-01T00:00:00.000+02:00'},\n",
       "    {'value': 38798.185,\n",
       "     'percentage': 0.5779033988684599,\n",
       "     'datetime': '2021-06-01T00:00:00.000+02:00'},\n",
       "    {'value': 55639.61,\n",
       "     'percentage': 0.635935918560497,\n",
       "     'datetime': '2021-07-01T00:00:00.000+02:00'},\n",
       "    {'value': 49533.029,\n",
       "     'percentage': 0.596805182627002,\n",
       "     'datetime': '2021-08-01T00:00:00.000+02:00'},\n",
       "    {'value': 39129.84,\n",
       "     'percentage': 0.6671631622128698,\n",
       "     'datetime': '2021-09-01T00:00:00.000+02:00'},\n",
       "    {'value': 56766.639,\n",
       "     'percentage': 0.7823081095577334,\n",
       "     'datetime': '2021-10-01T00:00:00.000+02:00'},\n",
       "    {'value': 147507.567,\n",
       "     'percentage': 0.9161101929501119,\n",
       "     'datetime': '2021-11-01T00:00:00.000+01:00'},\n",
       "    {'value': 85890.104,\n",
       "     'percentage': 0.8535366814522083,\n",
       "     'datetime': '2021-12-01T00:00:00.000+01:00'}]}},\n",
       " {'type': 'Solar fotovoltaica',\n",
       "  'id': '1707',\n",
       "  'groupId': '1',\n",
       "  'attributes': {'title': 'Solar fotovoltaica',\n",
       "   'description': None,\n",
       "   'color': '#e48500',\n",
       "   'type': None,\n",
       "   'magnitude': None,\n",
       "   'composite': False,\n",
       "   'last-update': '2022-11-15T19:06:23.000+01:00',\n",
       "   'values': [{'value': 5153.449,\n",
       "     'percentage': 0.03487737464753944,\n",
       "     'datetime': '2021-01-01T00:00:00.000+01:00'},\n",
       "    {'value': 7717.789,\n",
       "     'percentage': 0.07062128878664413,\n",
       "     'datetime': '2021-02-01T00:00:00.000+01:00'},\n",
       "    {'value': 13143.273,\n",
       "     'percentage': 0.09542179470416046,\n",
       "     'datetime': '2021-03-01T00:00:00.000+01:00'},\n",
       "    {'value': 13292.921,\n",
       "     'percentage': 0.12720812141742366,\n",
       "     'datetime': '2021-04-01T00:00:00.000+02:00'},\n",
       "    {'value': 16882.492,\n",
       "     'percentage': 0.24386430544372265,\n",
       "     'datetime': '2021-05-01T00:00:00.000+02:00'},\n",
       "    {'value': 16963.17,\n",
       "     'percentage': 0.25266835545486194,\n",
       "     'datetime': '2021-06-01T00:00:00.000+02:00'},\n",
       "    {'value': 18335.209,\n",
       "     'percentage': 0.2095632585744884,\n",
       "     'datetime': '2021-07-01T00:00:00.000+02:00'},\n",
       "    {'value': 18802.174,\n",
       "     'percentage': 0.22654045420591315,\n",
       "     'datetime': '2021-08-01T00:00:00.000+02:00'},\n",
       "    {'value': 12635.07,\n",
       "     'percentage': 0.21542774659903963,\n",
       "     'datetime': '2021-09-01T00:00:00.000+02:00'},\n",
       "    {'value': 12394.702,\n",
       "     'percentage': 0.17081292923034347,\n",
       "     'datetime': '2021-10-01T00:00:00.000+02:00'},\n",
       "    {'value': 7276.071,\n",
       "     'percentage': 0.04518875162335714,\n",
       "     'datetime': '2021-11-01T00:00:00.000+01:00'},\n",
       "    {'value': 4184.007,\n",
       "     'percentage': 0.04157875335618186,\n",
       "     'datetime': '2021-12-01T00:00:00.000+01:00'}]}},\n",
       " {'type': 'Otras renovables',\n",
       "  'id': '10334',\n",
       "  'groupId': '1',\n",
       "  'attributes': {'title': 'Otras renovables',\n",
       "   'description': 'Otras renovables: incluyen biogás, biomasa, hidráulica marina y geotérmica.',\n",
       "   'color': '#9a5cbc',\n",
       "   'type': None,\n",
       "   'magnitude': None,\n",
       "   'composite': False,\n",
       "   'last-update': '2021-04-22T10:52:33.000+02:00',\n",
       "   'values': [{'value': 638.97,\n",
       "     'percentage': 0.004324404118200894,\n",
       "     'datetime': '2021-01-01T00:00:00.000+01:00'},\n",
       "    {'value': 651.574,\n",
       "     'percentage': 0.00596219922828531,\n",
       "     'datetime': '2021-02-01T00:00:00.000+01:00'},\n",
       "    {'value': 761.214,\n",
       "     'percentage': 0.00552650820187124,\n",
       "     'datetime': '2021-03-01T00:00:00.000+01:00'},\n",
       "    {'value': 695.302,\n",
       "     'percentage': 0.006653771675749634,\n",
       "     'datetime': '2021-04-01T00:00:00.000+02:00'},\n",
       "    {'value': 672.357,\n",
       "     'percentage': 0.009712065778868727,\n",
       "     'datetime': '2021-05-01T00:00:00.000+02:00'},\n",
       "    {'value': 680.36,\n",
       "     'percentage': 0.010134039941665967,\n",
       "     'datetime': '2021-06-01T00:00:00.000+02:00'},\n",
       "    {'value': 695.811,\n",
       "     'percentage': 0.007952809292327858,\n",
       "     'datetime': '2021-07-01T00:00:00.000+02:00'},\n",
       "    {'value': 645.334,\n",
       "     'percentage': 0.00777539115819898,\n",
       "     'datetime': '2021-08-01T00:00:00.000+02:00'},\n",
       "    {'value': 695.538,\n",
       "     'percentage': 0.011858912060954378,\n",
       "     'datetime': '2021-09-01T00:00:00.000+02:00'},\n",
       "    {'value': 588.318,\n",
       "     'percentage': 0.008107683500493778,\n",
       "     'datetime': '2021-10-01T00:00:00.000+02:00'},\n",
       "    {'value': 434.937,\n",
       "     'percentage': 0.0027012188397842855,\n",
       "     'datetime': '2021-11-01T00:00:00.000+01:00'},\n",
       "    {'value': 700.953,\n",
       "     'percentage': 0.006965751228732587,\n",
       "     'datetime': '2021-12-01T00:00:00.000+01:00'}]}},\n",
       " {'type': 'Generación renovable',\n",
       "  'id': '1',\n",
       "  'groupId': '1',\n",
       "  'attributes': {'title': 'Generación renovable',\n",
       "   'description': None,\n",
       "   'color': '#2b2e34',\n",
       "   'type': 'Generación renovable',\n",
       "   'magnitude': None,\n",
       "   'composite': True,\n",
       "   'last-update': '2022-01-13T12:43:08.000+01:00',\n",
       "   'values': [{'value': 147759.08599999998,\n",
       "     'percentage': 1,\n",
       "     'datetime': '2021-01-01T00:00:00.000+01:00'},\n",
       "    {'value': 109284.171,\n",
       "     'percentage': 1,\n",
       "     'datetime': '2021-02-01T00:00:00.000+01:00'},\n",
       "    {'value': 137738.69,\n",
       "     'percentage': 1,\n",
       "     'datetime': '2021-03-01T00:00:00.000+01:00'},\n",
       "    {'value': 104497.424,\n",
       "     'percentage': 1,\n",
       "     'datetime': '2021-04-01T00:00:00.000+02:00'},\n",
       "    {'value': 69229.041,\n",
       "     'percentage': 1,\n",
       "     'datetime': '2021-05-01T00:00:00.000+02:00'},\n",
       "    {'value': 67136.108,\n",
       "     'percentage': 1,\n",
       "     'datetime': '2021-06-01T00:00:00.000+02:00'},\n",
       "    {'value': 87492.479,\n",
       "     'percentage': 1,\n",
       "     'datetime': '2021-07-01T00:00:00.000+02:00'},\n",
       "    {'value': 82996.982,\n",
       "     'percentage': 1,\n",
       "     'datetime': '2021-08-01T00:00:00.000+02:00'},\n",
       "    {'value': 58651.079999999994,\n",
       "     'percentage': 1,\n",
       "     'datetime': '2021-09-01T00:00:00.000+02:00'},\n",
       "    {'value': 72563.02,\n",
       "     'percentage': 1,\n",
       "     'datetime': '2021-10-01T00:00:00.000+02:00'},\n",
       "    {'value': 161015.092,\n",
       "     'percentage': 1,\n",
       "     'datetime': '2021-11-01T00:00:00.000+01:00'},\n",
       "    {'value': 100628.486,\n",
       "     'percentage': 1,\n",
       "     'datetime': '2021-12-01T00:00:00.000+01:00'}]}}]"
      ]
     },
     "execution_count": 88,
     "metadata": {},
     "output_type": "execute_result"
    }
   ],
   "source": [
    "response_generacion_json['included']"
   ]
  },
  {
   "cell_type": "code",
   "execution_count": 63,
   "metadata": {},
   "outputs": [
    {
     "data": {
      "text/plain": [
       "5"
      ]
     },
     "execution_count": 63,
     "metadata": {},
     "output_type": "execute_result"
    }
   ],
   "source": [
    "len(response_generacion_json['included'])"
   ]
  },
  {
   "cell_type": "code",
   "execution_count": 78,
   "metadata": {},
   "outputs": [
    {
     "data": {
      "text/plain": [
       "12"
      ]
     },
     "execution_count": 78,
     "metadata": {},
     "output_type": "execute_result"
    }
   ],
   "source": [
    "len(response_generacion_json['included'][1]['attributes']['values'])"
   ]
  },
  {
   "cell_type": "code",
   "execution_count": 85,
   "metadata": {},
   "outputs": [
    {
     "data": {
      "text/plain": [
       "{'type': 'Eólica',\n",
       " 'id': '10333',\n",
       " 'groupId': '1',\n",
       " 'attributes': {'title': 'Eólica',\n",
       "  'description': None,\n",
       "  'color': '#6fb114',\n",
       "  'type': None,\n",
       "  'magnitude': None,\n",
       "  'composite': False,\n",
       "  'last-update': '2022-11-10T23:30:06.000+01:00',\n",
       "  'values': [{'value': 126564.559,\n",
       "    'percentage': 0.8565602456420176,\n",
       "    'datetime': '2021-01-01T00:00:00.000+01:00'},\n",
       "   {'value': 80023.713,\n",
       "    'percentage': 0.7322534660577698,\n",
       "    'datetime': '2021-02-01T00:00:00.000+01:00'},\n",
       "   {'value': 106078.27,\n",
       "    'percentage': 0.7701414177817432,\n",
       "    'datetime': '2021-03-01T00:00:00.000+01:00'},\n",
       "   {'value': 78024.301,\n",
       "    'percentage': 0.7466624344730259,\n",
       "    'datetime': '2021-04-01T00:00:00.000+02:00'},\n",
       "   {'value': 39047.666,\n",
       "    'percentage': 0.564035922438966,\n",
       "    'datetime': '2021-05-01T00:00:00.000+02:00'},\n",
       "   {'value': 38798.185,\n",
       "    'percentage': 0.5779033988684599,\n",
       "    'datetime': '2021-06-01T00:00:00.000+02:00'},\n",
       "   {'value': 55639.61,\n",
       "    'percentage': 0.635935918560497,\n",
       "    'datetime': '2021-07-01T00:00:00.000+02:00'},\n",
       "   {'value': 49533.029,\n",
       "    'percentage': 0.596805182627002,\n",
       "    'datetime': '2021-08-01T00:00:00.000+02:00'},\n",
       "   {'value': 39129.84,\n",
       "    'percentage': 0.6671631622128698,\n",
       "    'datetime': '2021-09-01T00:00:00.000+02:00'},\n",
       "   {'value': 56766.639,\n",
       "    'percentage': 0.7823081095577334,\n",
       "    'datetime': '2021-10-01T00:00:00.000+02:00'},\n",
       "   {'value': 147507.567,\n",
       "    'percentage': 0.9161101929501119,\n",
       "    'datetime': '2021-11-01T00:00:00.000+01:00'},\n",
       "   {'value': 85890.104,\n",
       "    'percentage': 0.8535366814522083,\n",
       "    'datetime': '2021-12-01T00:00:00.000+01:00'}]}}"
      ]
     },
     "execution_count": 85,
     "metadata": {},
     "output_type": "execute_result"
    }
   ],
   "source": [
    "response_generacion_json['included'][1]"
   ]
  },
  {
   "cell_type": "code",
   "execution_count": null,
   "metadata": {},
   "outputs": [],
   "source": []
  }
 ],
 "metadata": {
  "kernelspec": {
   "display_name": "Python 3",
   "language": "python",
   "name": "python3"
  },
  "language_info": {
   "codemirror_mode": {
    "name": "ipython",
    "version": 3
   },
   "file_extension": ".py",
   "mimetype": "text/x-python",
   "name": "python",
   "nbconvert_exporter": "python",
   "pygments_lexer": "ipython3",
   "version": "3.11.9"
  }
 },
 "nbformat": 4,
 "nbformat_minor": 2
}
