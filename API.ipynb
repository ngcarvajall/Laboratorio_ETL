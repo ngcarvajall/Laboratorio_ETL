{
 "cells": [
  {
   "cell_type": "markdown",
   "metadata": {},
   "source": [
    "API - Datos Red Eléctrica"
   ]
  },
  {
   "cell_type": "code",
   "execution_count": 8,
   "metadata": {},
   "outputs": [],
   "source": [
    "import requests\n",
    "#import pandas as pd\n",
    "import dotenv as dotenv\n",
    "import os\n",
    "\n",
    "\n",
    "# Para generar una barra de proceso en los bucles for\n",
    "# -----------------------------------------------------------------------\n",
    "from tqdm import tqdm\n",
    "\n",
    "# Para trabajar con ficheros\n",
    "# -----------------------------------------------------------------------\n",
    "import os\n",
    "import pandas as pd\n",
    "import re"
   ]
  },
  {
   "cell_type": "code",
   "execution_count": 2,
   "metadata": {},
   "outputs": [],
   "source": [
    "base_url_demanda = \"https://apidatos.ree.es/es/datos/demanda/evolucion\"\n",
    "base_url_generacion = \"https://apidatos.ree.es/es/datos/generacion/estructura-renovables\"\n",
    "headers = {'Accept': 'application/json'}"
   ]
  },
  {
   "cell_type": "code",
   "execution_count": 7,
   "metadata": {},
   "outputs": [],
   "source": [
    "def obtener_datos(tipo, anio, comunidad_id):\n",
    "    base_url = base_url_demanda if tipo == 'demanda' else base_url_generacion\n",
    "    fecha_inicio = f\"{anio}-01-01\"\n",
    "    fecha_fin = f\"{anio}-12-31\"\n",
    "    params = {'start_date': fecha_inicio,\n",
    "            'end_date': fecha_fin,\n",
    "            'time_trunc': 'month',\n",
    "            'geo_limit': 'ccaa',\n",
    "            'geo_ids': comunidad_id}\n",
    "    response = requests.get(base_url, headers=headers, params=params)\n",
    "    if response.status_code == 200:\n",
    "        data = response.json()\n",
    "        valores = data['included'][0]['attributes']['values']\n",
    "        df = pd.DataFrame(valores)\n",
    "        df['Tipo'] = tipo\n",
    "        df['Id_Comunidad']=comunidad_id\n",
    "        return df\n",
    "    else:\n",
    "        print(f\"Error {response.status_code} al solicitar {tipo} para {comunidad_id} en el año {anio}\")\n",
    "        return pd.DataFrame()"
   ]
  },
  {
   "cell_type": "markdown",
   "metadata": {},
   "source": [
    "API - Demanda Eléctrica"
   ]
  },
  {
   "cell_type": "code",
   "execution_count": null,
   "metadata": {},
   "outputs": [],
   "source": [
    "anios = [2019,2020,2021]"
   ]
  },
  {
   "cell_type": "code",
   "execution_count": null,
   "metadata": {},
   "outputs": [],
   "source": [
    "import requests\n",
    "url = 'https://apidatos.ree.es/es/datos/demanda/evolucion'\n",
    "\n",
    "headers = {'Accept': 'application/json',\n",
    "'Content-Type': 'application/json',\n",
    "'Host': 'apidatos.ree.es'}\n",
    "\n",
    "response = requests.get(url, headers=headers, params=querystring)\n",
    "\n",
    "datos= response.json()"
   ]
  },
  {
   "cell_type": "code",
   "execution_count": null,
   "metadata": {},
   "outputs": [],
   "source": [
    "headers={\"Accept\": \"application/json\",\n",
    "\"Content-Type\": \"application/json\",\n",
    "\"Host\": \"apidatos.ree.es\"}\n",
    "\n",
    "ruta = \"C:\\\\Users\\\\DELL\\\\Git\\\\Laboratorio_ETL\\\\datos\"\n",
    "os.makedirs(ruta, existok=True)\n",
    "\n",
    "for anio in lista_años:\n",
    "    for nombre, ccaa in cod_comunidades.items():\n",
    "\n",
    "        url_demanda=f\"https://apidatos.ree.es/es/datos/demanda/evolucion?start_date={anio}-01-01T00:00&end_date={anio}-12-31T23:59&time_trunc=month&geo_trunk=electric_system&geo_limit=ccaa&geo_ids={ccaa}\"\n",
    "\n",
    "        response = requests.get(url_demanda, headers=headers)\n",
    "        responsa= response.json()   #Esto creo que me da una lista\n",
    "\n",
    "        df_demanda= pd.DataFrame(responsa['included'][0]['attributes']['values']).to_csv(os.path.join(ruta, f'{nombre}{anio}.csv'))"
   ]
  },
  {
   "cell_type": "code",
   "execution_count": null,
   "metadata": {},
   "outputs": [],
   "source": []
  },
  {
   "cell_type": "markdown",
   "metadata": {},
   "source": [
    "Api - Generación"
   ]
  },
  {
   "cell_type": "code",
   "execution_count": null,
   "metadata": {},
   "outputs": [],
   "source": [
    "import requests\n",
    "url_gen = 'https://apidatos.ree.es/es/datos/generacion/estructura-renovables'\n",
    "headers = {'Accept': 'application/json',\n",
    "'Content-Type': 'application/json',\n",
    "'Host': 'apidatos.ree.es'}\n",
    "\n",
    "response = requests.get(url, headers=headers, params=querystring)\n",
    "\n",
    "datos= response.json()"
   ]
  },
  {
   "cell_type": "code",
   "execution_count": null,
   "metadata": {},
   "outputs": [],
   "source": [
    "url = 'https://apidatos.ree.es/es/datos/generacion/estructura-renovables'"
   ]
  },
  {
   "cell_type": "code",
   "execution_count": 6,
   "metadata": {},
   "outputs": [
    {
     "ename": "SyntaxError",
     "evalue": "'return' outside function (295711814.py, line 7)",
     "output_type": "error",
     "traceback": [
      "\u001b[1;36m  Cell \u001b[1;32mIn[6], line 7\u001b[1;36m\u001b[0m\n\u001b[1;33m    return df\u001b[0m\n\u001b[1;37m    ^\u001b[0m\n\u001b[1;31mSyntaxError\u001b[0m\u001b[1;31m:\u001b[0m 'return' outside function\n"
     ]
    }
   ],
   "source": [
    "    cod_comunidades = {'Ceuta': 8744,\n",
    "                        'Melilla': 8745,\n",
    "                        'Andalucía': 4,\n",
    "                        'Aragón': 5,\n",
    "                        'Cantabria': 6,\n",
    "                        'Castilla - La Mancha': 7,\n",
    "                        'Castilla y León': 8,\n",
    "                        'Cataluña': 9,\n",
    "                        'País Vasco': 10,\n",
    "                        'Principado de Asturias': 11,\n",
    "                        'Comunidad de Madrid': 13,\n",
    "                        'Comunidad Foral de Navarra': 14,\n",
    "                        'Comunitat Valenciana': 15,\n",
    "                        'Extremadura': 16,\n",
    "                        'Galicia': 17,\n",
    "                        'Illes Balears': 8743,\n",
    "                        'Canarias': 8742,\n",
    "                        'Región de Murcia': 21,\n",
    "                        'La Rioja': 20}"
   ]
  },
  {
   "cell_type": "code",
   "execution_count": null,
   "metadata": {},
   "outputs": [],
   "source": []
  }
 ],
 "metadata": {
  "kernelspec": {
   "display_name": "Python 3",
   "language": "python",
   "name": "python3"
  },
  "language_info": {
   "codemirror_mode": {
    "name": "ipython",
    "version": 3
   },
   "file_extension": ".py",
   "mimetype": "text/x-python",
   "name": "python",
   "nbconvert_exporter": "python",
   "pygments_lexer": "ipython3",
   "version": "3.11.9"
  }
 },
 "nbformat": 4,
 "nbformat_minor": 2
}
