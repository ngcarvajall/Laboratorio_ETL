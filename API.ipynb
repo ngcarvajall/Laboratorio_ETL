{
 "cells": [
  {
   "cell_type": "code",
   "execution_count": null,
   "metadata": {},
   "outputs": [],
   "source": [
    "from selenium.webdriver.support.ui import WebDriverWait\n",
    "from selenium.webdriver.common.by import By\n",
    "from selenium.webdriver.support import expected_conditions as EC\n",
    "from time import sleep\n",
    "# Selenium para establecer la configuración del driver\n",
    "# -----------------------------------------------------------------------\n",
    "from selenium import webdriver\n",
    "\n",
    "# Para generar una barra de proceso en los bucles for\n",
    "# -----------------------------------------------------------------------\n",
    "from tqdm import tqdm\n",
    "\n",
    "# Para trabajar con ficheros\n",
    "# -----------------------------------------------------------------------\n",
    "import os\n",
    "\n",
    "import re"
   ]
  },
  {
   "cell_type": "code",
   "execution_count": null,
   "metadata": {},
   "outputs": [],
   "source": [
    "base_url_demanda = \"https://apidatos.ree.es/es/datos/demanda/evolucion\"\n",
    "base_url_generacion = \"https://apidatos.ree.es/es/datos/generacion/estructura-renovables\"\n",
    "headers = {'Accept': 'application/json'}"
   ]
  },
  {
   "cell_type": "code",
   "execution_count": null,
   "metadata": {},
   "outputs": [],
   "source": [
    "def obtener_datos(tipo, anio, comunidad_id):\n",
    "    base_url = base_url_demanda if tipo == 'demanda' else base_url_generacion\n",
    "    fecha_inicio = f\"{anio}-01-01\"\n",
    "    fecha_fin = f\"{anio}-12-31\"\n",
    "    params = {'start_date': fecha_inicio,\n",
    "            'end_date': fecha_fin,\n",
    "            'time_trunc': 'month',\n",
    "            'geo_limit': 'ccaa',\n",
    "            'geo_ids': comunidad_id}\n",
    "    response = requests.get(base_url, headers=headers, params=params)"
   ]
  },
  {
   "cell_type": "code",
   "execution_count": null,
   "metadata": {},
   "outputs": [],
   "source": [
    "if response.status_code == 200:\n",
    "        data = response.json()\n",
    "        valores = data['included'][0]['attributes']['values']\n",
    "        df = pd.DataFrame(valores)\n",
    "        df['Tipo'] = tipo\n",
    "        df['Id_Comunidad']=comunidad_id\n",
    "        return df\n",
    "    else:\n",
    "        print(f\"Error {response.status_code} al solicitar {tipo} para {comunidad_id} en el año {anio}\")\n",
    "        return pd.DataFrame()"
   ]
  }
 ],
 "metadata": {
  "language_info": {
   "name": "python"
  }
 },
 "nbformat": 4,
 "nbformat_minor": 2
}
