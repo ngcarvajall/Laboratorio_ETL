{
 "cells": [
  {
   "cell_type": "markdown",
   "metadata": {},
   "source": [
    "API - Datos Red Eléctrica"
   ]
  },
  {
   "cell_type": "code",
   "execution_count": 9,
   "metadata": {},
   "outputs": [],
   "source": [
    "import requests\n",
    "#import pandas as pd\n",
    "import dotenv as dotenv\n",
    "import os\n",
    "\n",
    "\n",
    "# Para generar una barra de proceso en los bucles for\n",
    "# -----------------------------------------------------------------------\n",
    "from tqdm import tqdm\n",
    "\n",
    "# Para trabajar con ficheros\n",
    "# -----------------------------------------------------------------------\n",
    "import os\n",
    "import pandas as pd\n",
    "import re"
   ]
  },
  {
   "cell_type": "code",
   "execution_count": 10,
   "metadata": {},
   "outputs": [],
   "source": [
    "cod_comunidades = {'Ceuta': 8744,\n",
    "                        'Melilla': 8745,\n",
    "                        'Andalucía': 4,\n",
    "                        'Aragón': 5,\n",
    "                        'Cantabria': 6,\n",
    "                        'Castilla - La Mancha': 7,\n",
    "                        'Castilla y León': 8,\n",
    "                        'Cataluña': 9,\n",
    "                        'País Vasco': 10,\n",
    "                        'Principado de Asturias': 11,\n",
    "                        'Comunidad de Madrid': 13,\n",
    "                        'Comunidad Foral de Navarra': 14,\n",
    "                        'Comunitat Valenciana': 15,\n",
    "                        'Extremadura': 16,\n",
    "                        'Galicia': 17,\n",
    "                        'Illes Balears': 8743,\n",
    "                        'Canarias': 8742,\n",
    "                        'Región de Murcia': 21,\n",
    "                        'La Rioja': 20}"
   ]
  },
  {
   "cell_type": "code",
   "execution_count": 11,
   "metadata": {},
   "outputs": [],
   "source": [
    "anios = [2019,2020,2021]\n",
    "# me hago la lista de años que busco"
   ]
  },
  {
   "cell_type": "markdown",
   "metadata": {},
   "source": [
    "API - Demanda Eléctrica"
   ]
  },
  {
   "cell_type": "code",
   "execution_count": 41,
   "metadata": {},
   "outputs": [],
   "source": [
    "headers={\"Accept\": \"application/json\",\n",
    "\"Content-Type\": \"application/json\",\n",
    "\"Host\": \"apidatos.ree.es\"}\n",
    "# creo mi destino\n",
    "ruta = \"C:\\\\Users\\\\DELL\\\\Git\\\\Laboratorio_ETL\\\\datos_demanda_electrica\"\n",
    "os.makedirs(ruta, exist_ok=True)\n",
    "# si existe bien, si no pues la crea\n",
    "for i in anios: #itero en años\n",
    "    for name, cod in cod_comunidades.items(): #itero en comunicades\n",
    "        url_demanda_electrica = f'https://apidatos.ree.es/es/datos/demanda/evolucion?start_date={i}-01-01T00:00&end_date={i}-12-31T23:59&time_trunc=month&geo_trunk=electric_system&geo_limit=ccaa&geo_ids={cod}'\n",
    "\n",
    "        response = requests.get(url_demanda_electrica, headers=headers)\n",
    "        response_json= response.json()\n",
    "        df_demanda_electrica= pd.DataFrame(response_json['included'][0]['attributes']['values']).to_csv(os.path.join(ruta, f'{name}{i}.csv')) #tomo el primero porque solo hay uno"
   ]
  },
  {
   "cell_type": "code",
   "execution_count": 38,
   "metadata": {},
   "outputs": [
    {
     "data": {
      "text/plain": [
       "{'data': {'type': 'Evolución de la demanda',\n",
       "  'id': 'dem1',\n",
       "  'attributes': {'title': 'Evolución de la demanda',\n",
       "   'last-update': '2022-01-11T09:21:30.000+01:00',\n",
       "   'description': None},\n",
       "  'meta': {'cache-control': {'cache': 'HIT',\n",
       "    'expireAt': '2024-11-27T17:16:24'}}},\n",
       " 'included': [{'type': 'Demanda',\n",
       "   'id': '10339',\n",
       "   'groupId': None,\n",
       "   'attributes': {'title': 'Demanda',\n",
       "    'description': None,\n",
       "    'color': '#ffea00',\n",
       "    'type': None,\n",
       "    'magnitude': None,\n",
       "    'composite': False,\n",
       "    'last-update': '2022-11-10T23:30:07.000+01:00',\n",
       "    'values': [{'value': 146298.76,\n",
       "      'percentage': 1,\n",
       "      'datetime': '2021-01-01T00:00:00.000+01:00'},\n",
       "     {'value': 129503.338,\n",
       "      'percentage': 1,\n",
       "      'datetime': '2021-02-01T00:00:00.000+01:00'},\n",
       "     {'value': 144652.408,\n",
       "      'percentage': 1,\n",
       "      'datetime': '2021-03-01T00:00:00.000+01:00'},\n",
       "     {'value': 129506.033,\n",
       "      'percentage': 1,\n",
       "      'datetime': '2021-04-01T00:00:00.000+02:00'},\n",
       "     {'value': 130651.022,\n",
       "      'percentage': 1,\n",
       "      'datetime': '2021-05-01T00:00:00.000+02:00'},\n",
       "     {'value': 128050.949,\n",
       "      'percentage': 1,\n",
       "      'datetime': '2021-06-01T00:00:00.000+02:00'},\n",
       "     {'value': 140864.511,\n",
       "      'percentage': 1,\n",
       "      'datetime': '2021-07-01T00:00:00.000+02:00'},\n",
       "     {'value': 130850.035,\n",
       "      'percentage': 1,\n",
       "      'datetime': '2021-08-01T00:00:00.000+02:00'},\n",
       "     {'value': 133323.629,\n",
       "      'percentage': 1,\n",
       "      'datetime': '2021-09-01T00:00:00.000+02:00'},\n",
       "     {'value': 135918.94,\n",
       "      'percentage': 1,\n",
       "      'datetime': '2021-10-01T00:00:00.000+02:00'},\n",
       "     {'value': 140846.25,\n",
       "      'percentage': 1,\n",
       "      'datetime': '2021-11-01T00:00:00.000+01:00'},\n",
       "     {'value': 141258.077,\n",
       "      'percentage': 1,\n",
       "      'datetime': '2021-12-01T00:00:00.000+01:00'}]}}]}"
      ]
     },
     "execution_count": 38,
     "metadata": {},
     "output_type": "execute_result"
    }
   ],
   "source": [
    "response_json"
   ]
  },
  {
   "cell_type": "code",
   "execution_count": 66,
   "metadata": {},
   "outputs": [
    {
     "data": {
      "text/plain": [
       "{'type': 'Demanda',\n",
       " 'id': '10339',\n",
       " 'groupId': None,\n",
       " 'attributes': {'title': 'Demanda',\n",
       "  'description': None,\n",
       "  'color': '#ffea00',\n",
       "  'type': None,\n",
       "  'magnitude': None,\n",
       "  'composite': False,\n",
       "  'last-update': '2022-11-10T23:30:07.000+01:00',\n",
       "  'values': [{'value': 146298.76,\n",
       "    'percentage': 1,\n",
       "    'datetime': '2021-01-01T00:00:00.000+01:00'},\n",
       "   {'value': 129503.338,\n",
       "    'percentage': 1,\n",
       "    'datetime': '2021-02-01T00:00:00.000+01:00'},\n",
       "   {'value': 144652.408,\n",
       "    'percentage': 1,\n",
       "    'datetime': '2021-03-01T00:00:00.000+01:00'},\n",
       "   {'value': 129506.033,\n",
       "    'percentage': 1,\n",
       "    'datetime': '2021-04-01T00:00:00.000+02:00'},\n",
       "   {'value': 130651.022,\n",
       "    'percentage': 1,\n",
       "    'datetime': '2021-05-01T00:00:00.000+02:00'},\n",
       "   {'value': 128050.949,\n",
       "    'percentage': 1,\n",
       "    'datetime': '2021-06-01T00:00:00.000+02:00'},\n",
       "   {'value': 140864.511,\n",
       "    'percentage': 1,\n",
       "    'datetime': '2021-07-01T00:00:00.000+02:00'},\n",
       "   {'value': 130850.035,\n",
       "    'percentage': 1,\n",
       "    'datetime': '2021-08-01T00:00:00.000+02:00'},\n",
       "   {'value': 133323.629,\n",
       "    'percentage': 1,\n",
       "    'datetime': '2021-09-01T00:00:00.000+02:00'},\n",
       "   {'value': 135918.94,\n",
       "    'percentage': 1,\n",
       "    'datetime': '2021-10-01T00:00:00.000+02:00'},\n",
       "   {'value': 140846.25,\n",
       "    'percentage': 1,\n",
       "    'datetime': '2021-11-01T00:00:00.000+01:00'},\n",
       "   {'value': 141258.077,\n",
       "    'percentage': 1,\n",
       "    'datetime': '2021-12-01T00:00:00.000+01:00'}]}}"
      ]
     },
     "execution_count": 66,
     "metadata": {},
     "output_type": "execute_result"
    }
   ],
   "source": [
    "response_json['included'][0]"
   ]
  },
  {
   "cell_type": "code",
   "execution_count": 62,
   "metadata": {},
   "outputs": [
    {
     "data": {
      "text/plain": [
       "1"
      ]
     },
     "execution_count": 62,
     "metadata": {},
     "output_type": "execute_result"
    }
   ],
   "source": [
    "len(response_json['included'])"
   ]
  },
  {
   "cell_type": "markdown",
   "metadata": {},
   "source": [
    "Api - Generación"
   ]
  },
  {
   "cell_type": "code",
   "execution_count": 64,
   "metadata": {},
   "outputs": [
    {
     "name": "stdout",
     "output_type": "stream",
     "text": [
      "Error 502 en la Ceuta para el año 2019\n",
      "Error 502 en la Ceuta para el año 2020\n",
      "Error 502 en la Ceuta para el año 2021\n"
     ]
    }
   ],
   "source": [
    "headers={\"Accept\": \"application/json\",\n",
    "\"Content-Type\": \"application/json\",\n",
    "\"Host\": \"apidatos.ree.es\"}\n",
    "\n",
    "ruta_g = \"C:\\\\Users\\\\DELL\\\\Git\\\\Laboratorio_ETL\\\\datos_generacion_estructura\"\n",
    "os.makedirs(ruta_g, exist_ok=True)\n",
    "\n",
    "for i in anios:\n",
    "    for name, cod in cod_comunidades.items():\n",
    "        url_generacion_renovable = f'https://apidatos.ree.es/es/datos/generacion/estructura-renovables?start_date={i}-01-01T00:00&end_date={i}-12-31T23:59&time_trunc=month&geo_trunk=electric_system&geo_limit=ccaa&geo_ids={cod}'\n",
    "\n",
    "        response_generacion = requests.get(url_generacion_renovable, headers=headers) # me dio problemas, veamos el porqué\n",
    "        if response_generacion.status_code == 200:\n",
    "            response_generacion_json = response_generacion.json()\n",
    "            for j in range(len(response_generacion_json['included'])): #itero aquí porque son varios elementos \n",
    "                df_generacion_estructura = pd.DataFrame(response_generacion_json['included'][j]['attributes']['values']).to_csv(os.path.join(ruta_g, f'{name}{i}.csv'))\n",
    "        else:\n",
    "            print(f\"Error {response_generacion.status_code} en la {name} para el año {i}\")\n",
    "\n",
    "        #recuerda que te equivocaste primero, prueba con response_json\n",
    "        # será que se sobreescribe o se apendea"
   ]
  },
  {
   "cell_type": "code",
   "execution_count": 47,
   "metadata": {},
   "outputs": [
    {
     "data": {
      "text/plain": [
       "dict_keys(['data', 'included'])"
      ]
     },
     "execution_count": 47,
     "metadata": {},
     "output_type": "execute_result"
    }
   ],
   "source": [
    "response_generacion_json.keys()"
   ]
  },
  {
   "cell_type": "code",
   "execution_count": 63,
   "metadata": {},
   "outputs": [
    {
     "data": {
      "text/plain": [
       "5"
      ]
     },
     "execution_count": 63,
     "metadata": {},
     "output_type": "execute_result"
    }
   ],
   "source": [
    "len(response_generacion_json['included'])"
   ]
  },
  {
   "cell_type": "code",
   "execution_count": 70,
   "metadata": {},
   "outputs": [
    {
     "data": {
      "text/plain": [
       "{'type': 'Generación renovable',\n",
       " 'id': '1',\n",
       " 'groupId': '1',\n",
       " 'attributes': {'title': 'Generación renovable',\n",
       "  'description': None,\n",
       "  'color': '#2b2e34',\n",
       "  'type': 'Generación renovable',\n",
       "  'magnitude': None,\n",
       "  'composite': True,\n",
       "  'last-update': '2022-01-13T12:43:08.000+01:00',\n",
       "  'values': [{'value': 147759.08599999998,\n",
       "    'percentage': 1,\n",
       "    'datetime': '2021-01-01T00:00:00.000+01:00'},\n",
       "   {'value': 109284.171,\n",
       "    'percentage': 1,\n",
       "    'datetime': '2021-02-01T00:00:00.000+01:00'},\n",
       "   {'value': 137738.69,\n",
       "    'percentage': 1,\n",
       "    'datetime': '2021-03-01T00:00:00.000+01:00'},\n",
       "   {'value': 104497.424,\n",
       "    'percentage': 1,\n",
       "    'datetime': '2021-04-01T00:00:00.000+02:00'},\n",
       "   {'value': 69229.041,\n",
       "    'percentage': 1,\n",
       "    'datetime': '2021-05-01T00:00:00.000+02:00'},\n",
       "   {'value': 67136.108,\n",
       "    'percentage': 1,\n",
       "    'datetime': '2021-06-01T00:00:00.000+02:00'},\n",
       "   {'value': 87492.479,\n",
       "    'percentage': 1,\n",
       "    'datetime': '2021-07-01T00:00:00.000+02:00'},\n",
       "   {'value': 82996.982,\n",
       "    'percentage': 1,\n",
       "    'datetime': '2021-08-01T00:00:00.000+02:00'},\n",
       "   {'value': 58651.079999999994,\n",
       "    'percentage': 1,\n",
       "    'datetime': '2021-09-01T00:00:00.000+02:00'},\n",
       "   {'value': 72563.02,\n",
       "    'percentage': 1,\n",
       "    'datetime': '2021-10-01T00:00:00.000+02:00'},\n",
       "   {'value': 161015.092,\n",
       "    'percentage': 1,\n",
       "    'datetime': '2021-11-01T00:00:00.000+01:00'},\n",
       "   {'value': 100628.486,\n",
       "    'percentage': 1,\n",
       "    'datetime': '2021-12-01T00:00:00.000+01:00'}]}}"
      ]
     },
     "execution_count": 70,
     "metadata": {},
     "output_type": "execute_result"
    }
   ],
   "source": [
    "response_generacion_json['included'][4]"
   ]
  },
  {
   "cell_type": "code",
   "execution_count": null,
   "metadata": {},
   "outputs": [],
   "source": []
  }
 ],
 "metadata": {
  "kernelspec": {
   "display_name": "Python 3",
   "language": "python",
   "name": "python3"
  },
  "language_info": {
   "codemirror_mode": {
    "name": "ipython",
    "version": 3
   },
   "file_extension": ".py",
   "mimetype": "text/x-python",
   "name": "python",
   "nbconvert_exporter": "python",
   "pygments_lexer": "ipython3",
   "version": "3.11.9"
  }
 },
 "nbformat": 4,
 "nbformat_minor": 2
}
