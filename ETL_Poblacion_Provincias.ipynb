{
 "cells": [
  {
   "cell_type": "markdown",
   "metadata": {},
   "source": [
    "- **Hipótesis 1: La demanda eléctrica está correlacionada con la población de la provincia.** Provincias con mayor población tienden a tener una mayor demanda eléctrica.\n",
    "  \n",
    "- **Hipótesis 2: El crecimiento económico (medido por el PIB) está correlacionado con la demanda eléctrica.** Las provincias con un PIB más alto o en crecimiento experimentan una mayor demanda de energía.\n",
    "\n",
    "- **Hipótesis 3: La proporción de generación renovable está relacionada con factores económicos o geográficos.** Provincias con un mayor desarrollo económico o con condiciones geográficas favorables (como más horas de sol o viento) tienden a generar más energía renovable."
   ]
  },
  {
   "cell_type": "markdown",
   "metadata": {},
   "source": [
    "## Tareas Laboratorio Extracción\n",
    "\n",
    "En el laboratorio de hoy tendrás que extraer la información necesaria para obtener tu objetivo de las siguientes fuentes de datos (deberás usar API's y herramientas de *web scrapping*):\n",
    "\n",
    "- **Datos de la API de Red Eléctrica Española (REE):** Deberás extraer datos mensuales a nivel provincial de los siguientes aspectos:\n",
    "\n",
    "  - **Demanda Eléctrica:** Nos proporciona los datos de demanda eléctrica a nivel provincial, agregados de manera mensual. Tendrás que usar el endpoint de \"https://apidatos.ree.es/es/datos/demanda/evolucion\", añadiendo los parámetros que sean necesarios. \n",
    "\n",
    "  - **Generación Eléctrica:** Nos proporciona los datos de generación eléctrica a nivel provincial, diferenciando entre fuentes de energía (eólica, solar, hidroeléctrica, etc.), agregados de manera mensual. Tendrás que usar el endpoint de \"https://apidatos.ree.es/es/datos/generacion/estructura-renovables\", añadiendo los parámetros que sean necesarios.\n",
    "\n",
    "  La documentación de la API la encontrarás en [este link](https://www.ree.es/es/apidatos). Recuerda leer en detenimiento la documentación. \n",
    "\n",
    "- **Datos del Instituto Nacional de Estadística (INE):** Además de los datos de la REE, debes extraer y utilizar datos socioeconómicos de las siguientes páginas del INE:\n",
    "\n",
    "- **Datos Demográficos:** Extraer los datos de población por provincias, diferenciando por grupos de edad, sexo, y extrajeros. Estos datos serán utilizados para analizar cómo la población afecta a la demanda eléctrica en cada provincia.\n",
    "\n",
    "  - **Página web:** [INE - Población por provincias](https://www.ine.es/dyngs/INEbase/es/operacion.htm?c=Estadistica_C&cid=1254736177012&menu=resultados&idp=1254734710990)\n",
    "\n",
    "  - \"Principales series 1998-2022\" --> \"Por provincia\" --> \" Población por provincias, edad (3 grupos de edad), españoles/Extranjeros, Sexo y año\"\n",
    "\n",
    "- **Datos Económicos:**\n",
    "\n",
    "  - **Página web:** [INE - PIB por provincias](https://www.ine.es/dynt3/inebase/es/index.htm?padre=10426&capsel=10429). \n",
    "\n",
    "  - **Pasos para la extracción**:\" Resultados provinciales. Serie contable 2016-2021\" --> \"P.I.B. a precios de mercado y valor añadido bruto a precios básicos por ramas de actividad: Precios corrientes por provincias y periodo.\"\n",
    "\n",
    "\n",
    "\n",
    "NOTA1: Tienes que sacar muchos datos, pero recuerda que hemos aprendido herramientas de asincronia que te pueden ayudar en este paso de la ETL. \n",
    "\n",
    "NOTA2: Todos estos datos los debes sacar para los años 2019-2020-2021"
   ]
  },
  {
   "cell_type": "code",
   "execution_count": 1,
   "metadata": {},
   "outputs": [],
   "source": [
    "from selenium.webdriver.support.ui import WebDriverWait\n",
    "from selenium.webdriver.common.by import By\n",
    "from selenium.webdriver.support import expected_conditions as EC\n",
    "from time import sleep\n",
    "# Selenium para establecer la configuración del driver\n",
    "# -----------------------------------------------------------------------\n",
    "from selenium import webdriver\n",
    "\n",
    "# Para generar una barra de proceso en los bucles for\n",
    "# -----------------------------------------------------------------------\n",
    "from tqdm import tqdm\n",
    "\n",
    "# Para trabajar con ficheros\n",
    "# -----------------------------------------------------------------------\n",
    "import os\n",
    "\n",
    "import re\n"
   ]
  },
  {
   "cell_type": "code",
   "execution_count": 19,
   "metadata": {},
   "outputs": [],
   "source": [
    "import pandas as pd"
   ]
  },
  {
   "cell_type": "code",
   "execution_count": 2,
   "metadata": {},
   "outputs": [],
   "source": [
    "chrome_options = webdriver.ChromeOptions()\n",
    "\n",
    "# establacemos las preferencias que queremos\n",
    "prefs = {\n",
    "    \"download.default_directory\": \"C:\\\\Users\\\\DELL\\\\Git\\\\Laboratorio_ETL\\\\datos_poblacion_provincia\",  # AQUÍ CADA UNO TENDREMOS QUE PONER LA RUTA QUE QUERAMOS PARA QUE SE GUARDEN LOS ARCHIVOS DESCARGADOS\n",
    "    \"download.prompt_for_download\": False,   # desactiva el diálogo que Chrome normalmente muestra para pedir confirmación del usuario antes de descargar un archivo\n",
    "    \"directory_upgrade\": True,\n",
    "    \"safebrowsing.enabled\": True, # Desactiva las alertas de archivos peligrosos\n",
    "    \"plugins.always_open_pdf_externally\": True,  \n",
    "    # hace que Chrome actualice el directorio de descarga predeterminado a la nueva ubicación especificada por download.default_directory si esta ha cambiado.\n",
    "}\n",
    "\n",
    "url = \"https://www.ine.es/dynt3/inebase/es/index.htm?type=pcaxis&path=/t20/e245/p08/&file=pcaxis&dh=0&capsel=2\"\n",
    "\n",
    "driver = webdriver.Chrome(options= chrome_options) # le decimos las opciones que hemos hecho previamente\n",
    "chrome_options.add_experimental_option(\"prefs\", prefs) #añade las opciones \n",
    "\n",
    "\n",
    "driver.get(url)\n",
    "driver.maximize_window()\n",
    "driver.implicitly_wait(5)"
   ]
  },
  {
   "cell_type": "code",
   "execution_count": 3,
   "metadata": {},
   "outputs": [
    {
     "name": "stdout",
     "output_type": "stream",
     "text": [
      "No encuentro el botón\n"
     ]
    }
   ],
   "source": [
    "try:\n",
    "    driver.find_element('xpath', '/html/body/div/main/section[2]/div[1]/div[1]/div[1]/ul/li/ul/li[3]/a').click()\n",
    "except: \n",
    "    print('No encuentro el botón')\n"
   ]
  },
  {
   "cell_type": "code",
   "execution_count": 4,
   "metadata": {},
   "outputs": [],
   "source": [
    "driver.execute_script(\"window.scrollBy(0, 500);\") \n",
    "sleep(3)"
   ]
  },
  {
   "cell_type": "markdown",
   "metadata": {},
   "source": [
    "A por provincias"
   ]
  },
  {
   "cell_type": "code",
   "execution_count": 5,
   "metadata": {},
   "outputs": [],
   "source": [
    "try:\n",
    "    driver.find_element('xpath', '/html/body/div[1]/main/div[2]/ul/li[4]/ul/li[1]/a').click()\n",
    "except:\n",
    "    print('No encuentro provincia')\n",
    "sleep(3)\n"
   ]
  },
  {
   "cell_type": "code",
   "execution_count": 6,
   "metadata": {},
   "outputs": [],
   "source": [
    "# # Esta es otra forma de hacerlo\n",
    "# edades = driver.find_elements(\"css selector\", \"#cri2\")\n",
    "# sleep(1)\n",
    "# cant_edades = edades[0].find_elements(By.TAG_NAME, \"option\")\n",
    "# print(len(cant_edades))\n",
    "# sleep(1)\n",
    "# for n in range(2, len(cant_edades) + 1):\n",
    "#     #elemento = WebDriverWait(driver, 10).until(EC.element_to_be_clickable((By.CSS_SELECTOR, '#cri1'))).click()\n",
    "#     WebDriverWait(driver, 10).until(EC.element_to_be_clickable((By.XPATH, f'//*[@id=\"cri1\"]/option[{n}]'))).click()\n",
    "#     sleep(1)\n",
    "\n",
    "# extranjeros = driver.find_elements(\"css selector\", \"#cri2\")\n",
    "# sleep(1)\n",
    "# driver.find_element(\"xpath\", \"/html/body/div/main/form/ul/li[1]/ul/li[3]/div/fieldset/div[2]/button[2]/i\").click()\n",
    "# cant_extranjeros = extranjeros[0].find_elements(By.TAG_NAME, \"option\")\n",
    "# sleep(1)\n",
    "# for n in range(2, len(cant_extranjeros) + 1):\n",
    "#     #elemento = WebDriverWait(driver, 10).until(EC.element_to_be_clickable((By.CSS_SELECTOR, '#cri1'))).click()\n",
    "#     WebDriverWait(driver, 10).until(EC.element_to_be_clickable((By.XPATH, f'//*[@id=\"cri2\"]/option[{n}]'))).click()\n",
    "#     sleep(1)\n",
    "\n",
    "# generos = driver.find_elements(\"css selector\", \"#cri3\")\n",
    "# sleep(1)\n",
    "# driver.find_element(\"xpath\", \"/html/body/div/main/form/ul/li[1]/ul/li[4]/div/fieldset/div[2]/button[2]/i\").click()\n",
    "# cant_generos = generos[0].find_elements(By.TAG_NAME, \"option\")\n",
    "# sleep(1)\n",
    "# for n in range(2, len(cant_generos) + 1):\n",
    "#     #elemento = WebDriverWait(driver, 10).until(EC.element_to_be_clickable((By.CSS_SELECTOR, '#cri1'))).click()\n",
    "#     WebDriverWait(driver, 10).until(EC.element_to_be_clickable((By.XPATH, f'//*[@id=\"cri3\"]/option[{n}]'))).click()\n",
    "#     sleep(1)\n",
    "\n",
    "# anios = driver.find_elements(\"css selector\", \"#periodo\")\n",
    "# cant_anios = anios[0].find_elements(By.TAG_NAME, \"option\")\n",
    "# sleep(1)\n",
    "# for n in range(2, 5):\n",
    "#     WebDriverWait(driver, 10).until(EC.element_to_be_clickable((By.XPATH, f'//*[@id=\"periodo\"]/option[{n}]'))).click()\n",
    "#     sleep(1)"
   ]
  },
  {
   "cell_type": "code",
   "execution_count": 7,
   "metadata": {},
   "outputs": [],
   "source": [
    "try:\n",
    "    driver.find_element('css selector', '#tg1 > div > fieldset > div.capaSelecTodosNinguno > button:nth-child(3) > i').click()\n",
    "except:\n",
    "    print('No encuentro sus edades')\n",
    "sleep(3)"
   ]
  },
  {
   "cell_type": "code",
   "execution_count": 8,
   "metadata": {},
   "outputs": [],
   "source": [
    "for i in range(2, 5):\n",
    "    WebDriverWait(driver, 5).until(EC.element_to_be_clickable((By.XPATH, f'//*[@id=\"cri1\"]/option[{i}]'))).click()\n",
    "    sleep(1)\n",
    "# intento que no coja todas pero sigue haciendolo...\n",
    "# esto es para las edades"
   ]
  },
  {
   "cell_type": "code",
   "execution_count": 9,
   "metadata": {},
   "outputs": [],
   "source": [
    "try:\n",
    "    driver.find_element('css selector', '#tg2 > div > fieldset > div.capaSelecTodosNinguno > button:nth-child(3) > i').click()\n",
    "except:\n",
    "    print('No encuentro si son españoles o extranjeros')\n",
    "sleep(3)"
   ]
  },
  {
   "cell_type": "code",
   "execution_count": 10,
   "metadata": {},
   "outputs": [],
   "source": [
    "for i in range(2, 5):\n",
    "    WebDriverWait(driver, 5).until(EC.element_to_be_clickable((By.XPATH, f'//*[@id=\"cri2\"]/option[{i}]'))).click()\n",
    "    sleep(1)"
   ]
  },
  {
   "cell_type": "code",
   "execution_count": 11,
   "metadata": {},
   "outputs": [],
   "source": [
    "try:\n",
    "    driver.find_element('css selector', '#tg3 > div > fieldset > div.capaSelecTodosNinguno > button:nth-child(3) > i').click()\n",
    "except:\n",
    "    print('No encuentro su sexo')\n",
    "sleep(3)"
   ]
  },
  {
   "cell_type": "code",
   "execution_count": 12,
   "metadata": {},
   "outputs": [],
   "source": [
    "for i in range(2, 4):\n",
    "    WebDriverWait(driver, 5).until(EC.element_to_be_clickable((By.XPATH, f'//*[@id=\"cri3\"]/option[{i}]'))).click()\n",
    "    sleep(1)"
   ]
  },
  {
   "cell_type": "code",
   "execution_count": 13,
   "metadata": {},
   "outputs": [],
   "source": [
    "# for n in range(2,4):\n",
    "#     WebDriverWait(driver, 10).until(EC.element_to_be_clickable((By.XPATH, f'//*[@id=\"cri1\"]/option[{n}]'))).click()\n",
    "#     sleep(1)\n",
    "\n",
    "# no traer de regreso"
   ]
  },
  {
   "cell_type": "code",
   "execution_count": 14,
   "metadata": {},
   "outputs": [],
   "source": [
    "try:\n",
    "    driver.find_element('css selector', '#caja_periodo > div > fieldset > div.capaSelecTodosNinguno > button:nth-child(3) > i').click()\n",
    "except:\n",
    "    print('No encuentro el blanco')\n",
    "sleep(3)"
   ]
  },
  {
   "cell_type": "code",
   "execution_count": 15,
   "metadata": {},
   "outputs": [],
   "source": [
    "for n in range(2,5):\n",
    "    WebDriverWait(driver, 10).until(EC.element_to_be_clickable((By.XPATH, f'//*[@id=\"periodo\"]/option[{n}]'))).click()\n",
    "    sleep(1)"
   ]
  },
  {
   "cell_type": "code",
   "execution_count": 16,
   "metadata": {},
   "outputs": [],
   "source": [
    "driver.execute_script(\"window.scrollBy(0, 500);\") "
   ]
  },
  {
   "cell_type": "code",
   "execution_count": 17,
   "metadata": {},
   "outputs": [],
   "source": [
    "driver.find_element(\"css selector\", \"#botonConsulSele\").click()"
   ]
  },
  {
   "cell_type": "code",
   "execution_count": 18,
   "metadata": {},
   "outputs": [],
   "source": [
    "sleep(1)\n",
    "driver.find_element(\"xpath\", \"/html/body/div[1]/main/ul/li/div/div/form[2]/button/i\").click()\n",
    "iframe = WebDriverWait(driver, 10).until(EC.presence_of_element_located((By.XPATH, '//*[@id=\"thickBoxINEfrm\"]')))\n",
    "sleep(1)\n",
    "driver.switch_to.frame(iframe)\n",
    "sleep(1)\n",
    "driver.find_element(\"xpath\", \"/html/body/form/ul/li[4]/label\").click()\n",
    "sleep(1)\n",
    "driver.switch_to.default_content()\n",
    "sleep(1)\n",
    "# aqui acaba todo"
   ]
  },
  {
   "cell_type": "code",
   "execution_count": 66,
   "metadata": {},
   "outputs": [],
   "source": [
    "df = pd.read_csv(\"C:\\\\Users\\\\DELL\\\\Downloads\\\\Datos_demograficos_final_limpiar_total.csv\", sep= ';', encoding='latin-1')"
   ]
  },
  {
   "cell_type": "code",
   "execution_count": 67,
   "metadata": {},
   "outputs": [
    {
     "data": {
      "text/plain": [
       "(2862, 6)"
      ]
     },
     "execution_count": 67,
     "metadata": {},
     "output_type": "execute_result"
    }
   ],
   "source": [
    "df.shape"
   ]
  },
  {
   "cell_type": "code",
   "execution_count": 68,
   "metadata": {},
   "outputs": [
    {
     "data": {
      "text/html": [
       "<div>\n",
       "<style scoped>\n",
       "    .dataframe tbody tr th:only-of-type {\n",
       "        vertical-align: middle;\n",
       "    }\n",
       "\n",
       "    .dataframe tbody tr th {\n",
       "        vertical-align: top;\n",
       "    }\n",
       "\n",
       "    .dataframe thead th {\n",
       "        text-align: right;\n",
       "    }\n",
       "</style>\n",
       "<table border=\"1\" class=\"dataframe\">\n",
       "  <thead>\n",
       "    <tr style=\"text-align: right;\">\n",
       "      <th></th>\n",
       "      <th>Provincias</th>\n",
       "      <th>Edad (3 grupos de edad)</th>\n",
       "      <th>Españoles/Extranjeros</th>\n",
       "      <th>Sexo</th>\n",
       "      <th>Año</th>\n",
       "      <th>Total</th>\n",
       "    </tr>\n",
       "  </thead>\n",
       "  <tbody>\n",
       "    <tr>\n",
       "      <th>0</th>\n",
       "      <td>TOTAL ESPAÑA</td>\n",
       "      <td>0-15 años</td>\n",
       "      <td>Españoles</td>\n",
       "      <td>Hombres</td>\n",
       "      <td>2021</td>\n",
       "      <td>3.272.369</td>\n",
       "    </tr>\n",
       "    <tr>\n",
       "      <th>1</th>\n",
       "      <td>TOTAL ESPAÑA</td>\n",
       "      <td>0-15 años</td>\n",
       "      <td>Españoles</td>\n",
       "      <td>Hombres</td>\n",
       "      <td>2020</td>\n",
       "      <td>3.338.410</td>\n",
       "    </tr>\n",
       "    <tr>\n",
       "      <th>2</th>\n",
       "      <td>TOTAL ESPAÑA</td>\n",
       "      <td>0-15 años</td>\n",
       "      <td>Españoles</td>\n",
       "      <td>Hombres</td>\n",
       "      <td>2019</td>\n",
       "      <td>3.386.006</td>\n",
       "    </tr>\n",
       "    <tr>\n",
       "      <th>3</th>\n",
       "      <td>TOTAL ESPAÑA</td>\n",
       "      <td>0-15 años</td>\n",
       "      <td>Españoles</td>\n",
       "      <td>Mujeres</td>\n",
       "      <td>2021</td>\n",
       "      <td>3.093.985</td>\n",
       "    </tr>\n",
       "    <tr>\n",
       "      <th>4</th>\n",
       "      <td>TOTAL ESPAÑA</td>\n",
       "      <td>0-15 años</td>\n",
       "      <td>Españoles</td>\n",
       "      <td>Mujeres</td>\n",
       "      <td>2020</td>\n",
       "      <td>3.155.541</td>\n",
       "    </tr>\n",
       "  </tbody>\n",
       "</table>\n",
       "</div>"
      ],
      "text/plain": [
       "     Provincias Edad (3 grupos de edad) Españoles/Extranjeros     Sexo   Año  \\\n",
       "0  TOTAL ESPAÑA               0-15 años             Españoles  Hombres  2021   \n",
       "1  TOTAL ESPAÑA               0-15 años             Españoles  Hombres  2020   \n",
       "2  TOTAL ESPAÑA               0-15 años             Españoles  Hombres  2019   \n",
       "3  TOTAL ESPAÑA               0-15 años             Españoles  Mujeres  2021   \n",
       "4  TOTAL ESPAÑA               0-15 años             Españoles  Mujeres  2020   \n",
       "\n",
       "       Total  \n",
       "0  3.272.369  \n",
       "1  3.338.410  \n",
       "2  3.386.006  \n",
       "3  3.093.985  \n",
       "4  3.155.541  "
      ]
     },
     "execution_count": 68,
     "metadata": {},
     "output_type": "execute_result"
    }
   ],
   "source": [
    "df.head()"
   ]
  },
  {
   "cell_type": "code",
   "execution_count": 69,
   "metadata": {},
   "outputs": [
    {
     "data": {
      "text/plain": [
       "Provincias\n",
       "TOTAL ESPAÑA                 54\n",
       "02 Albacete                  54\n",
       "03 Alicante/Alacant          54\n",
       "04 Almería                   54\n",
       "01 Araba/Álava               54\n",
       "33 Asturias                  54\n",
       "05 Ávila                     54\n",
       "06 Badajoz                   54\n",
       "07 Balears, Illes            54\n",
       "08 Barcelona                 54\n",
       "48 Bizkaia                   54\n",
       "09 Burgos                    54\n",
       "10 Cáceres                   54\n",
       "11 Cádiz                     54\n",
       "39 Cantabria                 54\n",
       "12 Castellón/Castelló        54\n",
       "13 Ciudad Real               54\n",
       "14 Córdoba                   54\n",
       "15 Coruña, A                 54\n",
       "16 Cuenca                    54\n",
       "20 Gipuzkoa                  54\n",
       "17 Girona                    54\n",
       "18 Granada                   54\n",
       "19 Guadalajara               54\n",
       "21 Huelva                    54\n",
       "22 Huesca                    54\n",
       "23 Jaén                      54\n",
       "24 León                      54\n",
       "25 Lleida                    54\n",
       "27 Lugo                      54\n",
       "28 Madrid                    54\n",
       "29 Málaga                    54\n",
       "30 Murcia                    54\n",
       "31 Navarra                   54\n",
       "32 Ourense                   54\n",
       "34 Palencia                  54\n",
       "35 Palmas, Las               54\n",
       "36 Pontevedra                54\n",
       "26 Rioja, La                 54\n",
       "37 Salamanca                 54\n",
       "38 Santa Cruz de Tenerife    54\n",
       "40 Segovia                   54\n",
       "41 Sevilla                   54\n",
       "42 Soria                     54\n",
       "43 Tarragona                 54\n",
       "44 Teruel                    54\n",
       "45 Toledo                    54\n",
       "46 Valencia/València         54\n",
       "47 Valladolid                54\n",
       "49 Zamora                    54\n",
       "50 Zaragoza                  54\n",
       "51 Ceuta                     54\n",
       "52 Melilla                   54\n",
       "Name: count, dtype: int64"
      ]
     },
     "execution_count": 69,
     "metadata": {},
     "output_type": "execute_result"
    }
   ],
   "source": [
    "df['Provincias'].value_counts()"
   ]
  },
  {
   "cell_type": "code",
   "execution_count": 70,
   "metadata": {},
   "outputs": [],
   "source": [
    "df = df[df['Provincias'] != 'TOTAL ESPAÑA'].reset_index(drop=True)\n",
    "# elimino los valores de TOTAL ESPAÑA, luego reseteo indices para enumerar nuevamente"
   ]
  },
  {
   "cell_type": "code",
   "execution_count": 71,
   "metadata": {},
   "outputs": [
    {
     "data": {
      "text/html": [
       "<div>\n",
       "<style scoped>\n",
       "    .dataframe tbody tr th:only-of-type {\n",
       "        vertical-align: middle;\n",
       "    }\n",
       "\n",
       "    .dataframe tbody tr th {\n",
       "        vertical-align: top;\n",
       "    }\n",
       "\n",
       "    .dataframe thead th {\n",
       "        text-align: right;\n",
       "    }\n",
       "</style>\n",
       "<table border=\"1\" class=\"dataframe\">\n",
       "  <thead>\n",
       "    <tr style=\"text-align: right;\">\n",
       "      <th></th>\n",
       "      <th>Provincias</th>\n",
       "      <th>Edad (3 grupos de edad)</th>\n",
       "      <th>Españoles/Extranjeros</th>\n",
       "      <th>Sexo</th>\n",
       "      <th>Año</th>\n",
       "      <th>Total</th>\n",
       "    </tr>\n",
       "  </thead>\n",
       "  <tbody>\n",
       "    <tr>\n",
       "      <th>2803</th>\n",
       "      <td>52 Melilla</td>\n",
       "      <td>65 y más</td>\n",
       "      <td>% Extranjeros</td>\n",
       "      <td>Hombres</td>\n",
       "      <td>2020</td>\n",
       "      <td>10,86</td>\n",
       "    </tr>\n",
       "    <tr>\n",
       "      <th>2804</th>\n",
       "      <td>52 Melilla</td>\n",
       "      <td>65 y más</td>\n",
       "      <td>% Extranjeros</td>\n",
       "      <td>Hombres</td>\n",
       "      <td>2019</td>\n",
       "      <td>10,73</td>\n",
       "    </tr>\n",
       "    <tr>\n",
       "      <th>2805</th>\n",
       "      <td>52 Melilla</td>\n",
       "      <td>65 y más</td>\n",
       "      <td>% Extranjeros</td>\n",
       "      <td>Mujeres</td>\n",
       "      <td>2021</td>\n",
       "      <td>9,55</td>\n",
       "    </tr>\n",
       "    <tr>\n",
       "      <th>2806</th>\n",
       "      <td>52 Melilla</td>\n",
       "      <td>65 y más</td>\n",
       "      <td>% Extranjeros</td>\n",
       "      <td>Mujeres</td>\n",
       "      <td>2020</td>\n",
       "      <td>9,55</td>\n",
       "    </tr>\n",
       "    <tr>\n",
       "      <th>2807</th>\n",
       "      <td>52 Melilla</td>\n",
       "      <td>65 y más</td>\n",
       "      <td>% Extranjeros</td>\n",
       "      <td>Mujeres</td>\n",
       "      <td>2019</td>\n",
       "      <td>8,96</td>\n",
       "    </tr>\n",
       "  </tbody>\n",
       "</table>\n",
       "</div>"
      ],
      "text/plain": [
       "      Provincias Edad (3 grupos de edad) Españoles/Extranjeros     Sexo   Año  \\\n",
       "2803  52 Melilla                65 y más         % Extranjeros  Hombres  2020   \n",
       "2804  52 Melilla                65 y más         % Extranjeros  Hombres  2019   \n",
       "2805  52 Melilla                65 y más         % Extranjeros  Mujeres  2021   \n",
       "2806  52 Melilla                65 y más         % Extranjeros  Mujeres  2020   \n",
       "2807  52 Melilla                65 y más         % Extranjeros  Mujeres  2019   \n",
       "\n",
       "      Total  \n",
       "2803  10,86  \n",
       "2804  10,73  \n",
       "2805   9,55  \n",
       "2806   9,55  \n",
       "2807   8,96  "
      ]
     },
     "execution_count": 71,
     "metadata": {},
     "output_type": "execute_result"
    }
   ],
   "source": [
    "df.tail()"
   ]
  },
  {
   "cell_type": "code",
   "execution_count": 72,
   "metadata": {},
   "outputs": [
    {
     "data": {
      "text/plain": [
       "(2808, 6)"
      ]
     },
     "execution_count": 72,
     "metadata": {},
     "output_type": "execute_result"
    }
   ],
   "source": [
    "df.shape"
   ]
  },
  {
   "cell_type": "code",
   "execution_count": 73,
   "metadata": {},
   "outputs": [],
   "source": [
    "# df['Provincias'] = df['Provincias'].str.split(' ').str[1]"
   ]
  },
  {
   "cell_type": "code",
   "execution_count": 74,
   "metadata": {},
   "outputs": [
    {
     "data": {
      "text/html": [
       "<div>\n",
       "<style scoped>\n",
       "    .dataframe tbody tr th:only-of-type {\n",
       "        vertical-align: middle;\n",
       "    }\n",
       "\n",
       "    .dataframe tbody tr th {\n",
       "        vertical-align: top;\n",
       "    }\n",
       "\n",
       "    .dataframe thead th {\n",
       "        text-align: right;\n",
       "    }\n",
       "</style>\n",
       "<table border=\"1\" class=\"dataframe\">\n",
       "  <thead>\n",
       "    <tr style=\"text-align: right;\">\n",
       "      <th></th>\n",
       "      <th>Provincias</th>\n",
       "      <th>Edad (3 grupos de edad)</th>\n",
       "      <th>Españoles/Extranjeros</th>\n",
       "      <th>Sexo</th>\n",
       "      <th>Año</th>\n",
       "      <th>Total</th>\n",
       "    </tr>\n",
       "  </thead>\n",
       "  <tbody>\n",
       "    <tr>\n",
       "      <th>0</th>\n",
       "      <td>02 Albacete</td>\n",
       "      <td>0-15 años</td>\n",
       "      <td>Españoles</td>\n",
       "      <td>Hombres</td>\n",
       "      <td>2021</td>\n",
       "      <td>27.304</td>\n",
       "    </tr>\n",
       "    <tr>\n",
       "      <th>1</th>\n",
       "      <td>02 Albacete</td>\n",
       "      <td>0-15 años</td>\n",
       "      <td>Españoles</td>\n",
       "      <td>Hombres</td>\n",
       "      <td>2020</td>\n",
       "      <td>27.979</td>\n",
       "    </tr>\n",
       "    <tr>\n",
       "      <th>2</th>\n",
       "      <td>02 Albacete</td>\n",
       "      <td>0-15 años</td>\n",
       "      <td>Españoles</td>\n",
       "      <td>Hombres</td>\n",
       "      <td>2019</td>\n",
       "      <td>28.513</td>\n",
       "    </tr>\n",
       "    <tr>\n",
       "      <th>3</th>\n",
       "      <td>02 Albacete</td>\n",
       "      <td>0-15 años</td>\n",
       "      <td>Españoles</td>\n",
       "      <td>Mujeres</td>\n",
       "      <td>2021</td>\n",
       "      <td>25.547</td>\n",
       "    </tr>\n",
       "    <tr>\n",
       "      <th>4</th>\n",
       "      <td>02 Albacete</td>\n",
       "      <td>0-15 años</td>\n",
       "      <td>Españoles</td>\n",
       "      <td>Mujeres</td>\n",
       "      <td>2020</td>\n",
       "      <td>25.953</td>\n",
       "    </tr>\n",
       "  </tbody>\n",
       "</table>\n",
       "</div>"
      ],
      "text/plain": [
       "    Provincias Edad (3 grupos de edad) Españoles/Extranjeros     Sexo   Año  \\\n",
       "0  02 Albacete               0-15 años             Españoles  Hombres  2021   \n",
       "1  02 Albacete               0-15 años             Españoles  Hombres  2020   \n",
       "2  02 Albacete               0-15 años             Españoles  Hombres  2019   \n",
       "3  02 Albacete               0-15 años             Españoles  Mujeres  2021   \n",
       "4  02 Albacete               0-15 años             Españoles  Mujeres  2020   \n",
       "\n",
       "    Total  \n",
       "0  27.304  \n",
       "1  27.979  \n",
       "2  28.513  \n",
       "3  25.547  \n",
       "4  25.953  "
      ]
     },
     "execution_count": 74,
     "metadata": {},
     "output_type": "execute_result"
    }
   ],
   "source": [
    "df.head()"
   ]
  },
  {
   "cell_type": "code",
   "execution_count": 75,
   "metadata": {},
   "outputs": [
    {
     "data": {
      "text/plain": [
       "Provincias                   52\n",
       "Edad (3 grupos de edad)       3\n",
       "Españoles/Extranjeros         3\n",
       "Sexo                          2\n",
       "Año                           3\n",
       "Total                      2537\n",
       "dtype: int64"
      ]
     },
     "execution_count": 75,
     "metadata": {},
     "output_type": "execute_result"
    }
   ],
   "source": [
    "df.nunique()"
   ]
  },
  {
   "cell_type": "code",
   "execution_count": 77,
   "metadata": {},
   "outputs": [
    {
     "name": "stdout",
     "output_type": "stream",
     "text": [
      "<class 'pandas.core.frame.DataFrame'>\n",
      "RangeIndex: 2808 entries, 0 to 2807\n",
      "Data columns (total 6 columns):\n",
      " #   Column                   Non-Null Count  Dtype \n",
      "---  ------                   --------------  ----- \n",
      " 0   Provincias               2808 non-null   object\n",
      " 1   Edad (3 grupos de edad)  2808 non-null   object\n",
      " 2   Españoles/Extranjeros    2808 non-null   object\n",
      " 3   Sexo                     2808 non-null   object\n",
      " 4   Año                      2808 non-null   int64 \n",
      " 5   Total                    2808 non-null   object\n",
      "dtypes: int64(1), object(5)\n",
      "memory usage: 131.8+ KB\n"
     ]
    }
   ],
   "source": [
    "df.info()"
   ]
  },
  {
   "cell_type": "code",
   "execution_count": 78,
   "metadata": {},
   "outputs": [
    {
     "data": {
      "text/plain": [
       "array(['Españoles', 'Extranjeros', '% Extranjeros'], dtype=object)"
      ]
     },
     "execution_count": 78,
     "metadata": {},
     "output_type": "execute_result"
    }
   ],
   "source": [
    "df['Españoles/Extranjeros'].unique()"
   ]
  },
  {
   "cell_type": "code",
   "execution_count": 79,
   "metadata": {},
   "outputs": [
    {
     "data": {
      "text/plain": [
       "array(['02 Albacete', '03 Alicante/Alacant', '04 Almería',\n",
       "       '01 Araba/Álava', '33 Asturias', '05 Ávila', '06 Badajoz',\n",
       "       '07 Balears, Illes', '08 Barcelona', '48 Bizkaia', '09 Burgos',\n",
       "       '10 Cáceres', '11 Cádiz', '39 Cantabria', '12 Castellón/Castelló',\n",
       "       '13 Ciudad Real', '14 Córdoba', '15 Coruña, A', '16 Cuenca',\n",
       "       '20 Gipuzkoa', '17 Girona', '18 Granada', '19 Guadalajara',\n",
       "       '21 Huelva', '22 Huesca', '23 Jaén', '24 León', '25 Lleida',\n",
       "       '27 Lugo', '28 Madrid', '29 Málaga', '30 Murcia', '31 Navarra',\n",
       "       '32 Ourense', '34 Palencia', '35 Palmas, Las', '36 Pontevedra',\n",
       "       '26 Rioja, La', '37 Salamanca', '38 Santa Cruz de Tenerife',\n",
       "       '40 Segovia', '41 Sevilla', '42 Soria', '43 Tarragona',\n",
       "       '44 Teruel', '45 Toledo', '46 Valencia/València', '47 Valladolid',\n",
       "       '49 Zamora', '50 Zaragoza', '51 Ceuta', '52 Melilla'], dtype=object)"
      ]
     },
     "execution_count": 79,
     "metadata": {},
     "output_type": "execute_result"
    }
   ],
   "source": [
    "df['Provincias'].unique()"
   ]
  },
  {
   "cell_type": "code",
   "execution_count": 80,
   "metadata": {},
   "outputs": [
    {
     "data": {
      "text/plain": [
       "Provincias                 0\n",
       "Edad (3 grupos de edad)    0\n",
       "Españoles/Extranjeros      0\n",
       "Sexo                       0\n",
       "Año                        0\n",
       "Total                      0\n",
       "dtype: int64"
      ]
     },
     "execution_count": 80,
     "metadata": {},
     "output_type": "execute_result"
    }
   ],
   "source": [
    "df.isna().sum()"
   ]
  },
  {
   "cell_type": "code",
   "execution_count": 81,
   "metadata": {},
   "outputs": [
    {
     "data": {
      "text/html": [
       "<div>\n",
       "<style scoped>\n",
       "    .dataframe tbody tr th:only-of-type {\n",
       "        vertical-align: middle;\n",
       "    }\n",
       "\n",
       "    .dataframe tbody tr th {\n",
       "        vertical-align: top;\n",
       "    }\n",
       "\n",
       "    .dataframe thead th {\n",
       "        text-align: right;\n",
       "    }\n",
       "</style>\n",
       "<table border=\"1\" class=\"dataframe\">\n",
       "  <thead>\n",
       "    <tr style=\"text-align: right;\">\n",
       "      <th></th>\n",
       "      <th>Provincias</th>\n",
       "      <th>Edad (3 grupos de edad)</th>\n",
       "      <th>Españoles/Extranjeros</th>\n",
       "      <th>Sexo</th>\n",
       "      <th>Año</th>\n",
       "      <th>Total</th>\n",
       "    </tr>\n",
       "  </thead>\n",
       "  <tbody>\n",
       "    <tr>\n",
       "      <th>0</th>\n",
       "      <td>02 Albacete</td>\n",
       "      <td>0-15 años</td>\n",
       "      <td>Españoles</td>\n",
       "      <td>Hombres</td>\n",
       "      <td>2021</td>\n",
       "      <td>27.304</td>\n",
       "    </tr>\n",
       "    <tr>\n",
       "      <th>1</th>\n",
       "      <td>02 Albacete</td>\n",
       "      <td>0-15 años</td>\n",
       "      <td>Españoles</td>\n",
       "      <td>Hombres</td>\n",
       "      <td>2020</td>\n",
       "      <td>27.979</td>\n",
       "    </tr>\n",
       "    <tr>\n",
       "      <th>2</th>\n",
       "      <td>02 Albacete</td>\n",
       "      <td>0-15 años</td>\n",
       "      <td>Españoles</td>\n",
       "      <td>Hombres</td>\n",
       "      <td>2019</td>\n",
       "      <td>28.513</td>\n",
       "    </tr>\n",
       "    <tr>\n",
       "      <th>3</th>\n",
       "      <td>02 Albacete</td>\n",
       "      <td>0-15 años</td>\n",
       "      <td>Españoles</td>\n",
       "      <td>Mujeres</td>\n",
       "      <td>2021</td>\n",
       "      <td>25.547</td>\n",
       "    </tr>\n",
       "    <tr>\n",
       "      <th>4</th>\n",
       "      <td>02 Albacete</td>\n",
       "      <td>0-15 años</td>\n",
       "      <td>Españoles</td>\n",
       "      <td>Mujeres</td>\n",
       "      <td>2020</td>\n",
       "      <td>25.953</td>\n",
       "    </tr>\n",
       "  </tbody>\n",
       "</table>\n",
       "</div>"
      ],
      "text/plain": [
       "    Provincias Edad (3 grupos de edad) Españoles/Extranjeros     Sexo   Año  \\\n",
       "0  02 Albacete               0-15 años             Españoles  Hombres  2021   \n",
       "1  02 Albacete               0-15 años             Españoles  Hombres  2020   \n",
       "2  02 Albacete               0-15 años             Españoles  Hombres  2019   \n",
       "3  02 Albacete               0-15 años             Españoles  Mujeres  2021   \n",
       "4  02 Albacete               0-15 años             Españoles  Mujeres  2020   \n",
       "\n",
       "    Total  \n",
       "0  27.304  \n",
       "1  27.979  \n",
       "2  28.513  \n",
       "3  25.547  \n",
       "4  25.953  "
      ]
     },
     "execution_count": 81,
     "metadata": {},
     "output_type": "execute_result"
    }
   ],
   "source": [
    "df.head()"
   ]
  },
  {
   "cell_type": "code",
   "execution_count": 82,
   "metadata": {},
   "outputs": [],
   "source": [
    "df[['Código', 'Provincia']] = df['Provincias'].str.split(' ', n=1, expand=True)\n"
   ]
  },
  {
   "cell_type": "code",
   "execution_count": 83,
   "metadata": {},
   "outputs": [],
   "source": [
    "df = df.drop(columns='Provincias')"
   ]
  },
  {
   "cell_type": "code",
   "execution_count": 84,
   "metadata": {},
   "outputs": [
    {
     "data": {
      "text/html": [
       "<div>\n",
       "<style scoped>\n",
       "    .dataframe tbody tr th:only-of-type {\n",
       "        vertical-align: middle;\n",
       "    }\n",
       "\n",
       "    .dataframe tbody tr th {\n",
       "        vertical-align: top;\n",
       "    }\n",
       "\n",
       "    .dataframe thead th {\n",
       "        text-align: right;\n",
       "    }\n",
       "</style>\n",
       "<table border=\"1\" class=\"dataframe\">\n",
       "  <thead>\n",
       "    <tr style=\"text-align: right;\">\n",
       "      <th></th>\n",
       "      <th>Edad (3 grupos de edad)</th>\n",
       "      <th>Españoles/Extranjeros</th>\n",
       "      <th>Sexo</th>\n",
       "      <th>Año</th>\n",
       "      <th>Total</th>\n",
       "      <th>Código</th>\n",
       "      <th>Provincia</th>\n",
       "    </tr>\n",
       "  </thead>\n",
       "  <tbody>\n",
       "    <tr>\n",
       "      <th>0</th>\n",
       "      <td>0-15 años</td>\n",
       "      <td>Españoles</td>\n",
       "      <td>Hombres</td>\n",
       "      <td>2021</td>\n",
       "      <td>27.304</td>\n",
       "      <td>02</td>\n",
       "      <td>Albacete</td>\n",
       "    </tr>\n",
       "    <tr>\n",
       "      <th>1</th>\n",
       "      <td>0-15 años</td>\n",
       "      <td>Españoles</td>\n",
       "      <td>Hombres</td>\n",
       "      <td>2020</td>\n",
       "      <td>27.979</td>\n",
       "      <td>02</td>\n",
       "      <td>Albacete</td>\n",
       "    </tr>\n",
       "    <tr>\n",
       "      <th>2</th>\n",
       "      <td>0-15 años</td>\n",
       "      <td>Españoles</td>\n",
       "      <td>Hombres</td>\n",
       "      <td>2019</td>\n",
       "      <td>28.513</td>\n",
       "      <td>02</td>\n",
       "      <td>Albacete</td>\n",
       "    </tr>\n",
       "    <tr>\n",
       "      <th>3</th>\n",
       "      <td>0-15 años</td>\n",
       "      <td>Españoles</td>\n",
       "      <td>Mujeres</td>\n",
       "      <td>2021</td>\n",
       "      <td>25.547</td>\n",
       "      <td>02</td>\n",
       "      <td>Albacete</td>\n",
       "    </tr>\n",
       "    <tr>\n",
       "      <th>4</th>\n",
       "      <td>0-15 años</td>\n",
       "      <td>Españoles</td>\n",
       "      <td>Mujeres</td>\n",
       "      <td>2020</td>\n",
       "      <td>25.953</td>\n",
       "      <td>02</td>\n",
       "      <td>Albacete</td>\n",
       "    </tr>\n",
       "  </tbody>\n",
       "</table>\n",
       "</div>"
      ],
      "text/plain": [
       "  Edad (3 grupos de edad) Españoles/Extranjeros     Sexo   Año   Total Código  \\\n",
       "0               0-15 años             Españoles  Hombres  2021  27.304     02   \n",
       "1               0-15 años             Españoles  Hombres  2020  27.979     02   \n",
       "2               0-15 años             Españoles  Hombres  2019  28.513     02   \n",
       "3               0-15 años             Españoles  Mujeres  2021  25.547     02   \n",
       "4               0-15 años             Españoles  Mujeres  2020  25.953     02   \n",
       "\n",
       "  Provincia  \n",
       "0  Albacete  \n",
       "1  Albacete  \n",
       "2  Albacete  \n",
       "3  Albacete  \n",
       "4  Albacete  "
      ]
     },
     "execution_count": 84,
     "metadata": {},
     "output_type": "execute_result"
    }
   ],
   "source": [
    "df.head()"
   ]
  },
  {
   "cell_type": "code",
   "execution_count": null,
   "metadata": {},
   "outputs": [],
   "source": []
  }
 ],
 "metadata": {
  "kernelspec": {
   "display_name": "Python 3",
   "language": "python",
   "name": "python3"
  },
  "language_info": {
   "codemirror_mode": {
    "name": "ipython",
    "version": 3
   },
   "file_extension": ".py",
   "mimetype": "text/x-python",
   "name": "python",
   "nbconvert_exporter": "python",
   "pygments_lexer": "ipython3",
   "version": "3.11.9"
  }
 },
 "nbformat": 4,
 "nbformat_minor": 2
}
