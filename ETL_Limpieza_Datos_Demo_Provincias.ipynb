{
 "cells": [
  {
   "cell_type": "code",
   "execution_count": 1,
   "metadata": {},
   "outputs": [],
   "source": [
    "import os\n",
    "import pandas as pd\n",
    "import re\n"
   ]
  },
  {
   "cell_type": "code",
   "execution_count": 2,
   "metadata": {},
   "outputs": [],
   "source": [
    "df = pd.read_csv(\"C:\\\\Users\\\\DELL\\\\Downloads\\\\Datos_demograficos_final_limpiar_total.csv\", sep= ';', encoding='latin-1')"
   ]
  },
  {
   "cell_type": "code",
   "execution_count": 3,
   "metadata": {},
   "outputs": [
    {
     "data": {
      "text/plain": [
       "(2862, 6)"
      ]
     },
     "execution_count": 3,
     "metadata": {},
     "output_type": "execute_result"
    }
   ],
   "source": [
    "df.shape"
   ]
  },
  {
   "cell_type": "code",
   "execution_count": 4,
   "metadata": {},
   "outputs": [
    {
     "data": {
      "text/html": [
       "<div>\n",
       "<style scoped>\n",
       "    .dataframe tbody tr th:only-of-type {\n",
       "        vertical-align: middle;\n",
       "    }\n",
       "\n",
       "    .dataframe tbody tr th {\n",
       "        vertical-align: top;\n",
       "    }\n",
       "\n",
       "    .dataframe thead th {\n",
       "        text-align: right;\n",
       "    }\n",
       "</style>\n",
       "<table border=\"1\" class=\"dataframe\">\n",
       "  <thead>\n",
       "    <tr style=\"text-align: right;\">\n",
       "      <th></th>\n",
       "      <th>Provincias</th>\n",
       "      <th>Edad (3 grupos de edad)</th>\n",
       "      <th>Españoles/Extranjeros</th>\n",
       "      <th>Sexo</th>\n",
       "      <th>Año</th>\n",
       "      <th>Total</th>\n",
       "    </tr>\n",
       "  </thead>\n",
       "  <tbody>\n",
       "    <tr>\n",
       "      <th>0</th>\n",
       "      <td>TOTAL ESPAÑA</td>\n",
       "      <td>0-15 años</td>\n",
       "      <td>Españoles</td>\n",
       "      <td>Hombres</td>\n",
       "      <td>2021</td>\n",
       "      <td>3.272.369</td>\n",
       "    </tr>\n",
       "    <tr>\n",
       "      <th>1</th>\n",
       "      <td>TOTAL ESPAÑA</td>\n",
       "      <td>0-15 años</td>\n",
       "      <td>Españoles</td>\n",
       "      <td>Hombres</td>\n",
       "      <td>2020</td>\n",
       "      <td>3.338.410</td>\n",
       "    </tr>\n",
       "    <tr>\n",
       "      <th>2</th>\n",
       "      <td>TOTAL ESPAÑA</td>\n",
       "      <td>0-15 años</td>\n",
       "      <td>Españoles</td>\n",
       "      <td>Hombres</td>\n",
       "      <td>2019</td>\n",
       "      <td>3.386.006</td>\n",
       "    </tr>\n",
       "    <tr>\n",
       "      <th>3</th>\n",
       "      <td>TOTAL ESPAÑA</td>\n",
       "      <td>0-15 años</td>\n",
       "      <td>Españoles</td>\n",
       "      <td>Mujeres</td>\n",
       "      <td>2021</td>\n",
       "      <td>3.093.985</td>\n",
       "    </tr>\n",
       "    <tr>\n",
       "      <th>4</th>\n",
       "      <td>TOTAL ESPAÑA</td>\n",
       "      <td>0-15 años</td>\n",
       "      <td>Españoles</td>\n",
       "      <td>Mujeres</td>\n",
       "      <td>2020</td>\n",
       "      <td>3.155.541</td>\n",
       "    </tr>\n",
       "  </tbody>\n",
       "</table>\n",
       "</div>"
      ],
      "text/plain": [
       "     Provincias Edad (3 grupos de edad) Españoles/Extranjeros     Sexo   Año  \\\n",
       "0  TOTAL ESPAÑA               0-15 años             Españoles  Hombres  2021   \n",
       "1  TOTAL ESPAÑA               0-15 años             Españoles  Hombres  2020   \n",
       "2  TOTAL ESPAÑA               0-15 años             Españoles  Hombres  2019   \n",
       "3  TOTAL ESPAÑA               0-15 años             Españoles  Mujeres  2021   \n",
       "4  TOTAL ESPAÑA               0-15 años             Españoles  Mujeres  2020   \n",
       "\n",
       "       Total  \n",
       "0  3.272.369  \n",
       "1  3.338.410  \n",
       "2  3.386.006  \n",
       "3  3.093.985  \n",
       "4  3.155.541  "
      ]
     },
     "execution_count": 4,
     "metadata": {},
     "output_type": "execute_result"
    }
   ],
   "source": [
    "df.head()"
   ]
  },
  {
   "cell_type": "code",
   "execution_count": 5,
   "metadata": {},
   "outputs": [
    {
     "data": {
      "text/plain": [
       "Provincias\n",
       "TOTAL ESPAÑA                 54\n",
       "02 Albacete                  54\n",
       "03 Alicante/Alacant          54\n",
       "04 Almería                   54\n",
       "01 Araba/Álava               54\n",
       "33 Asturias                  54\n",
       "05 Ávila                     54\n",
       "06 Badajoz                   54\n",
       "07 Balears, Illes            54\n",
       "08 Barcelona                 54\n",
       "48 Bizkaia                   54\n",
       "09 Burgos                    54\n",
       "10 Cáceres                   54\n",
       "11 Cádiz                     54\n",
       "39 Cantabria                 54\n",
       "12 Castellón/Castelló        54\n",
       "13 Ciudad Real               54\n",
       "14 Córdoba                   54\n",
       "15 Coruña, A                 54\n",
       "16 Cuenca                    54\n",
       "20 Gipuzkoa                  54\n",
       "17 Girona                    54\n",
       "18 Granada                   54\n",
       "19 Guadalajara               54\n",
       "21 Huelva                    54\n",
       "22 Huesca                    54\n",
       "23 Jaén                      54\n",
       "24 León                      54\n",
       "25 Lleida                    54\n",
       "27 Lugo                      54\n",
       "28 Madrid                    54\n",
       "29 Málaga                    54\n",
       "30 Murcia                    54\n",
       "31 Navarra                   54\n",
       "32 Ourense                   54\n",
       "34 Palencia                  54\n",
       "35 Palmas, Las               54\n",
       "36 Pontevedra                54\n",
       "26 Rioja, La                 54\n",
       "37 Salamanca                 54\n",
       "38 Santa Cruz de Tenerife    54\n",
       "40 Segovia                   54\n",
       "41 Sevilla                   54\n",
       "42 Soria                     54\n",
       "43 Tarragona                 54\n",
       "44 Teruel                    54\n",
       "45 Toledo                    54\n",
       "46 Valencia/València         54\n",
       "47 Valladolid                54\n",
       "49 Zamora                    54\n",
       "50 Zaragoza                  54\n",
       "51 Ceuta                     54\n",
       "52 Melilla                   54\n",
       "Name: count, dtype: int64"
      ]
     },
     "execution_count": 5,
     "metadata": {},
     "output_type": "execute_result"
    }
   ],
   "source": [
    "df['Provincias'].value_counts()"
   ]
  },
  {
   "cell_type": "code",
   "execution_count": 6,
   "metadata": {},
   "outputs": [],
   "source": [
    "df = df[df['Provincias'] != 'TOTAL ESPAÑA'].reset_index(drop=True)\n",
    "# elimino los valores de TOTAL ESPAÑA, luego reseteo indices para enumerar nuevamente"
   ]
  },
  {
   "cell_type": "code",
   "execution_count": 7,
   "metadata": {},
   "outputs": [
    {
     "data": {
      "text/html": [
       "<div>\n",
       "<style scoped>\n",
       "    .dataframe tbody tr th:only-of-type {\n",
       "        vertical-align: middle;\n",
       "    }\n",
       "\n",
       "    .dataframe tbody tr th {\n",
       "        vertical-align: top;\n",
       "    }\n",
       "\n",
       "    .dataframe thead th {\n",
       "        text-align: right;\n",
       "    }\n",
       "</style>\n",
       "<table border=\"1\" class=\"dataframe\">\n",
       "  <thead>\n",
       "    <tr style=\"text-align: right;\">\n",
       "      <th></th>\n",
       "      <th>Provincias</th>\n",
       "      <th>Edad (3 grupos de edad)</th>\n",
       "      <th>Españoles/Extranjeros</th>\n",
       "      <th>Sexo</th>\n",
       "      <th>Año</th>\n",
       "      <th>Total</th>\n",
       "    </tr>\n",
       "  </thead>\n",
       "  <tbody>\n",
       "    <tr>\n",
       "      <th>2803</th>\n",
       "      <td>52 Melilla</td>\n",
       "      <td>65 y más</td>\n",
       "      <td>% Extranjeros</td>\n",
       "      <td>Hombres</td>\n",
       "      <td>2020</td>\n",
       "      <td>10,86</td>\n",
       "    </tr>\n",
       "    <tr>\n",
       "      <th>2804</th>\n",
       "      <td>52 Melilla</td>\n",
       "      <td>65 y más</td>\n",
       "      <td>% Extranjeros</td>\n",
       "      <td>Hombres</td>\n",
       "      <td>2019</td>\n",
       "      <td>10,73</td>\n",
       "    </tr>\n",
       "    <tr>\n",
       "      <th>2805</th>\n",
       "      <td>52 Melilla</td>\n",
       "      <td>65 y más</td>\n",
       "      <td>% Extranjeros</td>\n",
       "      <td>Mujeres</td>\n",
       "      <td>2021</td>\n",
       "      <td>9,55</td>\n",
       "    </tr>\n",
       "    <tr>\n",
       "      <th>2806</th>\n",
       "      <td>52 Melilla</td>\n",
       "      <td>65 y más</td>\n",
       "      <td>% Extranjeros</td>\n",
       "      <td>Mujeres</td>\n",
       "      <td>2020</td>\n",
       "      <td>9,55</td>\n",
       "    </tr>\n",
       "    <tr>\n",
       "      <th>2807</th>\n",
       "      <td>52 Melilla</td>\n",
       "      <td>65 y más</td>\n",
       "      <td>% Extranjeros</td>\n",
       "      <td>Mujeres</td>\n",
       "      <td>2019</td>\n",
       "      <td>8,96</td>\n",
       "    </tr>\n",
       "  </tbody>\n",
       "</table>\n",
       "</div>"
      ],
      "text/plain": [
       "      Provincias Edad (3 grupos de edad) Españoles/Extranjeros     Sexo   Año  \\\n",
       "2803  52 Melilla                65 y más         % Extranjeros  Hombres  2020   \n",
       "2804  52 Melilla                65 y más         % Extranjeros  Hombres  2019   \n",
       "2805  52 Melilla                65 y más         % Extranjeros  Mujeres  2021   \n",
       "2806  52 Melilla                65 y más         % Extranjeros  Mujeres  2020   \n",
       "2807  52 Melilla                65 y más         % Extranjeros  Mujeres  2019   \n",
       "\n",
       "      Total  \n",
       "2803  10,86  \n",
       "2804  10,73  \n",
       "2805   9,55  \n",
       "2806   9,55  \n",
       "2807   8,96  "
      ]
     },
     "execution_count": 7,
     "metadata": {},
     "output_type": "execute_result"
    }
   ],
   "source": [
    "df.tail()"
   ]
  },
  {
   "cell_type": "code",
   "execution_count": 8,
   "metadata": {},
   "outputs": [
    {
     "data": {
      "text/plain": [
       "(2808, 6)"
      ]
     },
     "execution_count": 8,
     "metadata": {},
     "output_type": "execute_result"
    }
   ],
   "source": [
    "df.shape"
   ]
  },
  {
   "cell_type": "code",
   "execution_count": 9,
   "metadata": {},
   "outputs": [
    {
     "data": {
      "text/html": [
       "<div>\n",
       "<style scoped>\n",
       "    .dataframe tbody tr th:only-of-type {\n",
       "        vertical-align: middle;\n",
       "    }\n",
       "\n",
       "    .dataframe tbody tr th {\n",
       "        vertical-align: top;\n",
       "    }\n",
       "\n",
       "    .dataframe thead th {\n",
       "        text-align: right;\n",
       "    }\n",
       "</style>\n",
       "<table border=\"1\" class=\"dataframe\">\n",
       "  <thead>\n",
       "    <tr style=\"text-align: right;\">\n",
       "      <th></th>\n",
       "      <th>Provincias</th>\n",
       "      <th>Edad (3 grupos de edad)</th>\n",
       "      <th>Españoles/Extranjeros</th>\n",
       "      <th>Sexo</th>\n",
       "      <th>Año</th>\n",
       "      <th>Total</th>\n",
       "    </tr>\n",
       "  </thead>\n",
       "  <tbody>\n",
       "    <tr>\n",
       "      <th>0</th>\n",
       "      <td>02 Albacete</td>\n",
       "      <td>0-15 años</td>\n",
       "      <td>Españoles</td>\n",
       "      <td>Hombres</td>\n",
       "      <td>2021</td>\n",
       "      <td>27.304</td>\n",
       "    </tr>\n",
       "    <tr>\n",
       "      <th>1</th>\n",
       "      <td>02 Albacete</td>\n",
       "      <td>0-15 años</td>\n",
       "      <td>Españoles</td>\n",
       "      <td>Hombres</td>\n",
       "      <td>2020</td>\n",
       "      <td>27.979</td>\n",
       "    </tr>\n",
       "    <tr>\n",
       "      <th>2</th>\n",
       "      <td>02 Albacete</td>\n",
       "      <td>0-15 años</td>\n",
       "      <td>Españoles</td>\n",
       "      <td>Hombres</td>\n",
       "      <td>2019</td>\n",
       "      <td>28.513</td>\n",
       "    </tr>\n",
       "    <tr>\n",
       "      <th>3</th>\n",
       "      <td>02 Albacete</td>\n",
       "      <td>0-15 años</td>\n",
       "      <td>Españoles</td>\n",
       "      <td>Mujeres</td>\n",
       "      <td>2021</td>\n",
       "      <td>25.547</td>\n",
       "    </tr>\n",
       "    <tr>\n",
       "      <th>4</th>\n",
       "      <td>02 Albacete</td>\n",
       "      <td>0-15 años</td>\n",
       "      <td>Españoles</td>\n",
       "      <td>Mujeres</td>\n",
       "      <td>2020</td>\n",
       "      <td>25.953</td>\n",
       "    </tr>\n",
       "  </tbody>\n",
       "</table>\n",
       "</div>"
      ],
      "text/plain": [
       "    Provincias Edad (3 grupos de edad) Españoles/Extranjeros     Sexo   Año  \\\n",
       "0  02 Albacete               0-15 años             Españoles  Hombres  2021   \n",
       "1  02 Albacete               0-15 años             Españoles  Hombres  2020   \n",
       "2  02 Albacete               0-15 años             Españoles  Hombres  2019   \n",
       "3  02 Albacete               0-15 años             Españoles  Mujeres  2021   \n",
       "4  02 Albacete               0-15 años             Españoles  Mujeres  2020   \n",
       "\n",
       "    Total  \n",
       "0  27.304  \n",
       "1  27.979  \n",
       "2  28.513  \n",
       "3  25.547  \n",
       "4  25.953  "
      ]
     },
     "execution_count": 9,
     "metadata": {},
     "output_type": "execute_result"
    }
   ],
   "source": [
    "df.head()"
   ]
  },
  {
   "cell_type": "code",
   "execution_count": 10,
   "metadata": {},
   "outputs": [
    {
     "data": {
      "text/plain": [
       "Provincias                   52\n",
       "Edad (3 grupos de edad)       3\n",
       "Españoles/Extranjeros         3\n",
       "Sexo                          2\n",
       "Año                           3\n",
       "Total                      2537\n",
       "dtype: int64"
      ]
     },
     "execution_count": 10,
     "metadata": {},
     "output_type": "execute_result"
    }
   ],
   "source": [
    "df.nunique()"
   ]
  },
  {
   "cell_type": "code",
   "execution_count": 11,
   "metadata": {},
   "outputs": [
    {
     "name": "stdout",
     "output_type": "stream",
     "text": [
      "<class 'pandas.core.frame.DataFrame'>\n",
      "RangeIndex: 2808 entries, 0 to 2807\n",
      "Data columns (total 6 columns):\n",
      " #   Column                   Non-Null Count  Dtype \n",
      "---  ------                   --------------  ----- \n",
      " 0   Provincias               2808 non-null   object\n",
      " 1   Edad (3 grupos de edad)  2808 non-null   object\n",
      " 2   Españoles/Extranjeros    2808 non-null   object\n",
      " 3   Sexo                     2808 non-null   object\n",
      " 4   Año                      2808 non-null   int64 \n",
      " 5   Total                    2808 non-null   object\n",
      "dtypes: int64(1), object(5)\n",
      "memory usage: 131.8+ KB\n"
     ]
    }
   ],
   "source": [
    "df.info()"
   ]
  },
  {
   "cell_type": "code",
   "execution_count": 42,
   "metadata": {},
   "outputs": [
    {
     "data": {
      "text/plain": [
       "np.int64(0)"
      ]
     },
     "execution_count": 42,
     "metadata": {},
     "output_type": "execute_result"
    }
   ],
   "source": [
    "df.duplicated().sum()"
   ]
  },
  {
   "cell_type": "code",
   "execution_count": 12,
   "metadata": {},
   "outputs": [
    {
     "data": {
      "text/plain": [
       "array(['Españoles', 'Extranjeros', '% Extranjeros'], dtype=object)"
      ]
     },
     "execution_count": 12,
     "metadata": {},
     "output_type": "execute_result"
    }
   ],
   "source": [
    "df['Españoles/Extranjeros'].unique()"
   ]
  },
  {
   "cell_type": "code",
   "execution_count": 13,
   "metadata": {},
   "outputs": [
    {
     "data": {
      "text/plain": [
       "array(['02 Albacete', '03 Alicante/Alacant', '04 Almería',\n",
       "       '01 Araba/Álava', '33 Asturias', '05 Ávila', '06 Badajoz',\n",
       "       '07 Balears, Illes', '08 Barcelona', '48 Bizkaia', '09 Burgos',\n",
       "       '10 Cáceres', '11 Cádiz', '39 Cantabria', '12 Castellón/Castelló',\n",
       "       '13 Ciudad Real', '14 Córdoba', '15 Coruña, A', '16 Cuenca',\n",
       "       '20 Gipuzkoa', '17 Girona', '18 Granada', '19 Guadalajara',\n",
       "       '21 Huelva', '22 Huesca', '23 Jaén', '24 León', '25 Lleida',\n",
       "       '27 Lugo', '28 Madrid', '29 Málaga', '30 Murcia', '31 Navarra',\n",
       "       '32 Ourense', '34 Palencia', '35 Palmas, Las', '36 Pontevedra',\n",
       "       '26 Rioja, La', '37 Salamanca', '38 Santa Cruz de Tenerife',\n",
       "       '40 Segovia', '41 Sevilla', '42 Soria', '43 Tarragona',\n",
       "       '44 Teruel', '45 Toledo', '46 Valencia/València', '47 Valladolid',\n",
       "       '49 Zamora', '50 Zaragoza', '51 Ceuta', '52 Melilla'], dtype=object)"
      ]
     },
     "execution_count": 13,
     "metadata": {},
     "output_type": "execute_result"
    }
   ],
   "source": [
    "df['Provincias'].unique()"
   ]
  },
  {
   "cell_type": "code",
   "execution_count": 14,
   "metadata": {},
   "outputs": [
    {
     "data": {
      "text/plain": [
       "Provincias                 0\n",
       "Edad (3 grupos de edad)    0\n",
       "Españoles/Extranjeros      0\n",
       "Sexo                       0\n",
       "Año                        0\n",
       "Total                      0\n",
       "dtype: int64"
      ]
     },
     "execution_count": 14,
     "metadata": {},
     "output_type": "execute_result"
    }
   ],
   "source": [
    "df.isna().sum()"
   ]
  },
  {
   "cell_type": "code",
   "execution_count": 15,
   "metadata": {},
   "outputs": [
    {
     "data": {
      "text/html": [
       "<div>\n",
       "<style scoped>\n",
       "    .dataframe tbody tr th:only-of-type {\n",
       "        vertical-align: middle;\n",
       "    }\n",
       "\n",
       "    .dataframe tbody tr th {\n",
       "        vertical-align: top;\n",
       "    }\n",
       "\n",
       "    .dataframe thead th {\n",
       "        text-align: right;\n",
       "    }\n",
       "</style>\n",
       "<table border=\"1\" class=\"dataframe\">\n",
       "  <thead>\n",
       "    <tr style=\"text-align: right;\">\n",
       "      <th></th>\n",
       "      <th>Provincias</th>\n",
       "      <th>Edad (3 grupos de edad)</th>\n",
       "      <th>Españoles/Extranjeros</th>\n",
       "      <th>Sexo</th>\n",
       "      <th>Año</th>\n",
       "      <th>Total</th>\n",
       "    </tr>\n",
       "  </thead>\n",
       "  <tbody>\n",
       "    <tr>\n",
       "      <th>0</th>\n",
       "      <td>02 Albacete</td>\n",
       "      <td>0-15 años</td>\n",
       "      <td>Españoles</td>\n",
       "      <td>Hombres</td>\n",
       "      <td>2021</td>\n",
       "      <td>27.304</td>\n",
       "    </tr>\n",
       "    <tr>\n",
       "      <th>1</th>\n",
       "      <td>02 Albacete</td>\n",
       "      <td>0-15 años</td>\n",
       "      <td>Españoles</td>\n",
       "      <td>Hombres</td>\n",
       "      <td>2020</td>\n",
       "      <td>27.979</td>\n",
       "    </tr>\n",
       "    <tr>\n",
       "      <th>2</th>\n",
       "      <td>02 Albacete</td>\n",
       "      <td>0-15 años</td>\n",
       "      <td>Españoles</td>\n",
       "      <td>Hombres</td>\n",
       "      <td>2019</td>\n",
       "      <td>28.513</td>\n",
       "    </tr>\n",
       "    <tr>\n",
       "      <th>3</th>\n",
       "      <td>02 Albacete</td>\n",
       "      <td>0-15 años</td>\n",
       "      <td>Españoles</td>\n",
       "      <td>Mujeres</td>\n",
       "      <td>2021</td>\n",
       "      <td>25.547</td>\n",
       "    </tr>\n",
       "    <tr>\n",
       "      <th>4</th>\n",
       "      <td>02 Albacete</td>\n",
       "      <td>0-15 años</td>\n",
       "      <td>Españoles</td>\n",
       "      <td>Mujeres</td>\n",
       "      <td>2020</td>\n",
       "      <td>25.953</td>\n",
       "    </tr>\n",
       "  </tbody>\n",
       "</table>\n",
       "</div>"
      ],
      "text/plain": [
       "    Provincias Edad (3 grupos de edad) Españoles/Extranjeros     Sexo   Año  \\\n",
       "0  02 Albacete               0-15 años             Españoles  Hombres  2021   \n",
       "1  02 Albacete               0-15 años             Españoles  Hombres  2020   \n",
       "2  02 Albacete               0-15 años             Españoles  Hombres  2019   \n",
       "3  02 Albacete               0-15 años             Españoles  Mujeres  2021   \n",
       "4  02 Albacete               0-15 años             Españoles  Mujeres  2020   \n",
       "\n",
       "    Total  \n",
       "0  27.304  \n",
       "1  27.979  \n",
       "2  28.513  \n",
       "3  25.547  \n",
       "4  25.953  "
      ]
     },
     "execution_count": 15,
     "metadata": {},
     "output_type": "execute_result"
    }
   ],
   "source": [
    "df.head()"
   ]
  },
  {
   "cell_type": "code",
   "execution_count": 16,
   "metadata": {},
   "outputs": [],
   "source": [
    "df[['Código', 'Provincia']] = df['Provincias'].str.split(' ', n=1, expand=True)"
   ]
  },
  {
   "cell_type": "code",
   "execution_count": 17,
   "metadata": {},
   "outputs": [],
   "source": [
    "df = df.drop(columns='Provincias')"
   ]
  },
  {
   "cell_type": "code",
   "execution_count": 19,
   "metadata": {},
   "outputs": [],
   "source": [
    "df['Año'] = df['Año'].astype(int)"
   ]
  },
  {
   "cell_type": "code",
   "execution_count": 23,
   "metadata": {},
   "outputs": [],
   "source": [
    "df['Total'] = df['Total'].str.replace('.', '')"
   ]
  },
  {
   "cell_type": "code",
   "execution_count": 28,
   "metadata": {},
   "outputs": [],
   "source": [
    "df['Total'] = df['Total'].str.replace(',', '.') #hice esto debido a los porcentajes que había"
   ]
  },
  {
   "cell_type": "code",
   "execution_count": 35,
   "metadata": {},
   "outputs": [
    {
     "data": {
      "text/plain": [
       "array(['Españoles', 'Extranjeros', '% Extranjeros'], dtype=object)"
      ]
     },
     "execution_count": 35,
     "metadata": {},
     "output_type": "execute_result"
    }
   ],
   "source": [
    "df['Edad (3 grupos de edad)'].unique()\n",
    "df['Código'].unique()\n",
    "df['Españoles/Extranjeros'].unique()"
   ]
  },
  {
   "cell_type": "code",
   "execution_count": 36,
   "metadata": {},
   "outputs": [
    {
     "data": {
      "text/html": [
       "<div>\n",
       "<style scoped>\n",
       "    .dataframe tbody tr th:only-of-type {\n",
       "        vertical-align: middle;\n",
       "    }\n",
       "\n",
       "    .dataframe tbody tr th {\n",
       "        vertical-align: top;\n",
       "    }\n",
       "\n",
       "    .dataframe thead th {\n",
       "        text-align: right;\n",
       "    }\n",
       "</style>\n",
       "<table border=\"1\" class=\"dataframe\">\n",
       "  <thead>\n",
       "    <tr style=\"text-align: right;\">\n",
       "      <th></th>\n",
       "      <th>Edad (3 grupos de edad)</th>\n",
       "      <th>Españoles/Extranjeros</th>\n",
       "      <th>Sexo</th>\n",
       "      <th>Año</th>\n",
       "      <th>Total</th>\n",
       "      <th>Código</th>\n",
       "      <th>Provincia</th>\n",
       "    </tr>\n",
       "  </thead>\n",
       "  <tbody>\n",
       "    <tr>\n",
       "      <th>12</th>\n",
       "      <td>0-15 años</td>\n",
       "      <td>% Extranjeros</td>\n",
       "      <td>Hombres</td>\n",
       "      <td>2021</td>\n",
       "      <td>8.24</td>\n",
       "      <td>02</td>\n",
       "      <td>Albacete</td>\n",
       "    </tr>\n",
       "    <tr>\n",
       "      <th>13</th>\n",
       "      <td>0-15 años</td>\n",
       "      <td>% Extranjeros</td>\n",
       "      <td>Hombres</td>\n",
       "      <td>2020</td>\n",
       "      <td>8.04</td>\n",
       "      <td>02</td>\n",
       "      <td>Albacete</td>\n",
       "    </tr>\n",
       "    <tr>\n",
       "      <th>14</th>\n",
       "      <td>0-15 años</td>\n",
       "      <td>% Extranjeros</td>\n",
       "      <td>Hombres</td>\n",
       "      <td>2019</td>\n",
       "      <td>7.40</td>\n",
       "      <td>02</td>\n",
       "      <td>Albacete</td>\n",
       "    </tr>\n",
       "    <tr>\n",
       "      <th>15</th>\n",
       "      <td>0-15 años</td>\n",
       "      <td>% Extranjeros</td>\n",
       "      <td>Mujeres</td>\n",
       "      <td>2021</td>\n",
       "      <td>8.09</td>\n",
       "      <td>02</td>\n",
       "      <td>Albacete</td>\n",
       "    </tr>\n",
       "    <tr>\n",
       "      <th>16</th>\n",
       "      <td>0-15 años</td>\n",
       "      <td>% Extranjeros</td>\n",
       "      <td>Mujeres</td>\n",
       "      <td>2020</td>\n",
       "      <td>7.78</td>\n",
       "      <td>02</td>\n",
       "      <td>Albacete</td>\n",
       "    </tr>\n",
       "    <tr>\n",
       "      <th>...</th>\n",
       "      <td>...</td>\n",
       "      <td>...</td>\n",
       "      <td>...</td>\n",
       "      <td>...</td>\n",
       "      <td>...</td>\n",
       "      <td>...</td>\n",
       "      <td>...</td>\n",
       "    </tr>\n",
       "    <tr>\n",
       "      <th>2803</th>\n",
       "      <td>65 y más</td>\n",
       "      <td>% Extranjeros</td>\n",
       "      <td>Hombres</td>\n",
       "      <td>2020</td>\n",
       "      <td>10.86</td>\n",
       "      <td>52</td>\n",
       "      <td>Melilla</td>\n",
       "    </tr>\n",
       "    <tr>\n",
       "      <th>2804</th>\n",
       "      <td>65 y más</td>\n",
       "      <td>% Extranjeros</td>\n",
       "      <td>Hombres</td>\n",
       "      <td>2019</td>\n",
       "      <td>10.73</td>\n",
       "      <td>52</td>\n",
       "      <td>Melilla</td>\n",
       "    </tr>\n",
       "    <tr>\n",
       "      <th>2805</th>\n",
       "      <td>65 y más</td>\n",
       "      <td>% Extranjeros</td>\n",
       "      <td>Mujeres</td>\n",
       "      <td>2021</td>\n",
       "      <td>9.55</td>\n",
       "      <td>52</td>\n",
       "      <td>Melilla</td>\n",
       "    </tr>\n",
       "    <tr>\n",
       "      <th>2806</th>\n",
       "      <td>65 y más</td>\n",
       "      <td>% Extranjeros</td>\n",
       "      <td>Mujeres</td>\n",
       "      <td>2020</td>\n",
       "      <td>9.55</td>\n",
       "      <td>52</td>\n",
       "      <td>Melilla</td>\n",
       "    </tr>\n",
       "    <tr>\n",
       "      <th>2807</th>\n",
       "      <td>65 y más</td>\n",
       "      <td>% Extranjeros</td>\n",
       "      <td>Mujeres</td>\n",
       "      <td>2019</td>\n",
       "      <td>8.96</td>\n",
       "      <td>52</td>\n",
       "      <td>Melilla</td>\n",
       "    </tr>\n",
       "  </tbody>\n",
       "</table>\n",
       "<p>936 rows × 7 columns</p>\n",
       "</div>"
      ],
      "text/plain": [
       "     Edad (3 grupos de edad) Españoles/Extranjeros     Sexo   Año  Total  \\\n",
       "12                 0-15 años         % Extranjeros  Hombres  2021   8.24   \n",
       "13                 0-15 años         % Extranjeros  Hombres  2020   8.04   \n",
       "14                 0-15 años         % Extranjeros  Hombres  2019   7.40   \n",
       "15                 0-15 años         % Extranjeros  Mujeres  2021   8.09   \n",
       "16                 0-15 años         % Extranjeros  Mujeres  2020   7.78   \n",
       "...                      ...                   ...      ...   ...    ...   \n",
       "2803                65 y más         % Extranjeros  Hombres  2020  10.86   \n",
       "2804                65 y más         % Extranjeros  Hombres  2019  10.73   \n",
       "2805                65 y más         % Extranjeros  Mujeres  2021   9.55   \n",
       "2806                65 y más         % Extranjeros  Mujeres  2020   9.55   \n",
       "2807                65 y más         % Extranjeros  Mujeres  2019   8.96   \n",
       "\n",
       "     Código Provincia  \n",
       "12       02  Albacete  \n",
       "13       02  Albacete  \n",
       "14       02  Albacete  \n",
       "15       02  Albacete  \n",
       "16       02  Albacete  \n",
       "...     ...       ...  \n",
       "2803     52   Melilla  \n",
       "2804     52   Melilla  \n",
       "2805     52   Melilla  \n",
       "2806     52   Melilla  \n",
       "2807     52   Melilla  \n",
       "\n",
       "[936 rows x 7 columns]"
      ]
     },
     "execution_count": 36,
     "metadata": {},
     "output_type": "execute_result"
    }
   ],
   "source": [
    "df[df['Españoles/Extranjeros'] == '% Extranjeros']\n"
   ]
  },
  {
   "cell_type": "code",
   "execution_count": 39,
   "metadata": {},
   "outputs": [],
   "source": [
    "df=df[df[\"Españoles/Extranjeros\"] != f\"% Extranjeros\"].reset_index(drop=True) #elimino aquellas filas que solo aportan porcentajes y me quedo con los datos concretos"
   ]
  },
  {
   "cell_type": "code",
   "execution_count": 40,
   "metadata": {},
   "outputs": [
    {
     "data": {
      "text/plain": [
       "(1872, 7)"
      ]
     },
     "execution_count": 40,
     "metadata": {},
     "output_type": "execute_result"
    }
   ],
   "source": [
    "df.shape"
   ]
  },
  {
   "cell_type": "code",
   "execution_count": 41,
   "metadata": {},
   "outputs": [],
   "source": [
    "df['Total'] = df['Total'].astype(int)"
   ]
  },
  {
   "cell_type": "code",
   "execution_count": null,
   "metadata": {},
   "outputs": [],
   "source": []
  }
 ],
 "metadata": {
  "kernelspec": {
   "display_name": "Python 3",
   "language": "python",
   "name": "python3"
  },
  "language_info": {
   "codemirror_mode": {
    "name": "ipython",
    "version": 3
   },
   "file_extension": ".py",
   "mimetype": "text/x-python",
   "name": "python",
   "nbconvert_exporter": "python",
   "pygments_lexer": "ipython3",
   "version": "3.11.9"
  }
 },
 "nbformat": 4,
 "nbformat_minor": 2
}
